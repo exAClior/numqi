{
 "cells": [
  {
   "cell_type": "markdown",
   "metadata": {},
   "source": [
    "# Entanglement: Advanced 0\n",
    "\n",
    "In previous tutorial, we have seen SEP set which consists of separable states, and ENT set which consists of entangled states. \n",
    "\n",
    "$$ \\mathrm{SEP}=\\mathrm{conv}\\left(\\mathcal{D}_{A}\\otimes\\mathcal{D}_{B}\\right) \\subseteq \\mathcal{D}_{d_Ad_B} $$\n",
    "\n",
    "$$ \\mathrm{ENT}=\\mathcal{D}_{d_{A}d_{B}}\\setminus\\mathrm{SEP} $$\n",
    "\n",
    "where $\\mathcal{D}_d$ denotes the set of density matrices on $\\mathcal{H}_d$.\n",
    "\n",
    "Besides checking whether a state is entangled or not, we can also ask the following questions\n",
    "\n",
    "1. how far is a state from the set of separable states, theoretically, entanglement measure.\n",
    "2. where is the boundary between separable states and entangled states.\n",
    "\n",
    "In this tutorial we will focus on these two questions."
   ]
  },
  {
   "cell_type": "code",
   "execution_count": null,
   "metadata": {},
   "outputs": [],
   "source": [
    "import numpy as np\n",
    "from tqdm.notebook import tqdm\n",
    "import matplotlib.pyplot as plt\n",
    "import numqi\n"
   ]
  },
  {
   "cell_type": "markdown",
   "metadata": {},
   "source": [
    "## Entanglement measure\n",
    "\n",
    "There are some entanglement measure [wiki-link](https://en.wikipedia.org/wiki/Quantum_entanglement#As_a_measure_of_entanglement)\n",
    "\n",
    "1. concurrence\n",
    "2. relative entropy of entanglement (REE)\n",
    "3. entanglement of formation (EoF)\n",
    "4. logarithmic negativity\n",
    "\n",
    "These measures are zero for all SEP states, positive for ENT states, and non-decreasing under local operations and classical communication (LOCC) [quantiki-link](https://www.quantiki.org/wiki/entanglement-measure). In this tutorial we will focus on REE which is defined as [wiki-link](https://en.wikipedia.org/wiki/Quantum_relative_entropy)\n",
    "\n",
    "$$ \\mathrm{REE}\\left( \\rho \\right) =\\min_{\\sigma \\in \\mathrm{SEP}} S\\left( \\rho ||\\sigma \\right) $$\n",
    "\n",
    "where $S$ is the quantum relative entropy (von Neumann entropy) defined as\n",
    "\n",
    "$$ S\\left( \\rho ||\\sigma \\right) =\\mathrm{Tr}\\left[ \\rho \\ln \\rho -\\rho \\ln \\sigma \\right] $$\n",
    "\n",
    "The relative entropy $S$ is jointly convex in its arguments, and non-negative. It is zero if and only if $\\rho=\\sigma$. In the following, we will discuss Werner state and Isotropic state which has analytical solution for REE."
   ]
  },
  {
   "cell_type": "markdown",
   "metadata": {},
   "source": [
    "### Werner state\n",
    "\n",
    "Werner state is defined as [wiki-link](https://en.wikipedia.org/wiki/Werner_state) over $\\mathcal{H}_d\\otimes \\mathcal{H}_d$\n",
    "\n",
    "$$ \\rho_{W,d}\\left(\\alpha\\right)=\\frac{1}{d^{2}-d\\alpha}I-\\frac{\\alpha}{d^{2}-d\\alpha}\\sum_{ij}\\left|ij\\right\\rangle \\left\\langle ji\\right|,\\quad\\alpha\\in\\left[-1,1\\right] $$\n",
    "\n",
    "(You might see different definitions for Werner state, you can check [doc-link](./special_state.md#werner-state) for the conversion among different definitions)\n",
    "\n",
    "Werner state is separable for $\\alpha\\in\\left[-1,\\frac{1}{d}\\right]$, and entangled for $\\alpha\\in\\left(\\frac{1}{d},1\\right]$. The REE of Werner state is given in paper \"Entanglement measures under symmetry\" [doi-link](https://doi.org/10.1103/PhysRevA.64.062307).\n",
    "\n",
    "$$ \\mathrm{REE\\left(\\rho_{W,d}(\\alpha)\\right)=\\begin{cases}\n",
    "0 & \\alpha\\in\\left[-1,\\frac{1}{d}\\right]\\\\\n",
    "S\\left(\\rho_{W,d}(\\alpha)\\lvert\\rho_{W,d}\\left(\\frac{1}{d}\\right)\\right) & \\alpha\\in\\left[\\frac{1}{d},1\\right]\n",
    "\\end{cases}} $$\n",
    "\n",
    "Below, we can calculate the REE via PPT criterion (lower bound) and CHA criterion (upper bound), and compare with the analytical solution."
   ]
  },
  {
   "cell_type": "code",
   "execution_count": null,
   "metadata": {},
   "outputs": [],
   "source": [
    "dim = 3\n",
    "alpha_list = np.linspace(0, 1, 100, endpoint=False) # alpha=1 is unstable for matrix logarithm\n",
    "dm_target_list = [numqi.state.Werner(dim, x) for x in alpha_list]\n"
   ]
  },
  {
   "cell_type": "markdown",
   "metadata": {},
   "source": [
    "PPT criterion is to solve the following semidefinite program (SDP). \n",
    "\n",
    "$$ \\min_{\\sigma}\\;S\\left(\\rho_{W,d}\\left(\\alpha\\right)\\|\\sigma\\right) $$\n",
    "\n",
    "$$ s.t.\\;\\begin{cases}\n",
    "\\rho\\succeq0\\\\\n",
    "\\mathrm{Tr}\\left[\\rho\\right]=1\\\\\n",
    "\\rho^{\\Gamma}\\succeq0\n",
    "\\end{cases} $$\n",
    "\n",
    "It can be approximately evaluated by semidefinite programming (SDP) according to the paper \"Semidefinite approximations of the matrix logarithm\" [doi-link](https://doi.org/10.1007%2Fs10208-018-9385-0) [arxiv-link](https://arxiv.org/abs/1705.00812) [github/cvxquad](https://github.com/hfawzi/cvxquad)."
   ]
  },
  {
   "cell_type": "code",
   "execution_count": null,
   "metadata": {},
   "outputs": [],
   "source": [
    "ree_analytical = np.array([numqi.state.get_Werner_ree(dim, x) for x in alpha_list])\n",
    "ree_ppt = numqi.entangle.get_ppt_ree(dm_target_list, dim, dim) #about 30 seconds\n"
   ]
  },
  {
   "cell_type": "markdown",
   "metadata": {},
   "source": [
    "Convex hull approximation (CHA) is to solve the following non-convex optimization problem via gradient descent method. The key idea is to formulize the problem as a non-convex optimization problem, and use gradient descent method to find the optimal solution. The gradient of the objective function is solved by gradient back-propagation method from Pytorch framework. We will dive into more details in the following tutorial."
   ]
  },
  {
   "cell_type": "code",
   "execution_count": null,
   "metadata": {},
   "outputs": [],
   "source": [
    "model = numqi.entangle.AutodiffCHAREE((dim,dim), distance_kind='ree')\n",
    "ree_cha = [] #about 11 seconds\n",
    "for dm_target_i in tqdm(dm_target_list):\n",
    "    model.set_dm_target(dm_target_i)\n",
    "    tmp0 = numqi.optimize.minimize(model, theta0='uniform', tol=1e-12, num_repeat=1, print_every_round=0).fun\n",
    "    ree_cha.append(tmp0)\n",
    "ree_cha = np.array(ree_cha)\n"
   ]
  },
  {
   "cell_type": "code",
   "execution_count": null,
   "metadata": {},
   "outputs": [],
   "source": [
    "fig, ax = plt.subplots()\n",
    "ax.plot(alpha_list, ree_analytical, \"x\", label=\"analytical\")\n",
    "ax.plot(alpha_list, ree_ppt, label=\"PPT\")\n",
    "ax.plot(alpha_list, ree_cha, label=\"CHA\")\n",
    "ax.set_xlim(min(alpha_list), max(alpha_list))\n",
    "ax.set_ylim(1e-13, 1)\n",
    "ax.set_yscale('log')\n",
    "ax.set_xlabel(r\"$\\beta$\")\n",
    "ax.set_ylabel(\"REE\")\n",
    "ax.set_title(f'Werner({dim})')\n",
    "ax.legend()\n",
    "fig.tight_layout()\n"
   ]
  },
  {
   "cell_type": "markdown",
   "metadata": {},
   "source": [
    "Be care, there is NOT a phase transition in the figure. the sharp shift is only due to the logarithmic scale used in the y-axis. We can see that the upper bound (CHA) and lower bound (PPT) are very close to the analytical solution."
   ]
  },
  {
   "cell_type": "markdown",
   "metadata": {},
   "source": [
    "### Isotropic state\n",
    "\n",
    "Let's repeat the same procedure for Isotropic state. Isotropic state is defined as [quantiki-link](https://www.quantiki.org/wiki/isotropic-state) over $\\mathcal{H}_d\\otimes \\mathcal{H}_d$\n",
    "\n",
    "$$ \\rho_{I,d}^{\\prime}\\left(\\alpha\\right)=\\frac{1-\\alpha}{d^{2}}I+\\frac{\\alpha}{d}\\sum_{i}\\left|ii\\right\\rangle \\left\\langle ii\\right|,\\quad\\alpha\\in\\left[-\\frac{1}{d^{2}-1},1\\right] $$\n",
    "\n",
    "(You might see different definitions for Werner state, you can check [doc-link](./special_state.md#isotropic-state) for the conversion among different definitions)\n",
    "\n",
    "Isotropic state is separable for $\\alpha\\in\\left[-\\frac{1}{d^2-1},\\frac{1}{d+1}\\right]$, and entangled for $\\alpha\\in\\left(\\frac{1}{d+1},1\\right]$. The REE of Werner state is given in paper \"Bound on distillable entanglement\" [doi-link](https://doi.org/10.1103/PhysRevA.60.179).\n",
    "\n",
    "$$ \\mathrm{REE\\left(\\rho_{I,d}(\\alpha)\\right)=\\begin{cases}\n",
    "0 & \\alpha\\in\\left[-\\frac{1}{d^{2}-1},\\frac{1}{d+1}\\right]\\\\\n",
    "S\\left(\\rho_{I,d}(\\alpha)\\lvert\\rho_{I,d}\\left(\\frac{1}{d+1}\\right)\\right) & \\alpha\\in\\left[\\frac{1}{d+1},1\\right]\n",
    "\\end{cases}} $$"
   ]
  },
  {
   "cell_type": "code",
   "execution_count": null,
   "metadata": {},
   "outputs": [],
   "source": [
    "dim = 3\n",
    "alpha_list = np.linspace(0, 1, 100, endpoint=False) # alpha=1 is unstable for matrix logarithm\n",
    "dm_target_list = [numqi.state.Isotropic(dim, x) for x in alpha_list]\n",
    "\n",
    "ree_analytical = np.array([numqi.state.get_Isotropic_ree(dim, x) for x in alpha_list])\n",
    "ree_ppt = numqi.entangle.get_ppt_ree(dm_target_list, dim, dim) #about 30 seconds\n",
    "\n",
    "model = numqi.entangle.AutodiffCHAREE((dim, dim), distance_kind='ree')\n",
    "ree_cha = [] #about 11 seconds\n",
    "for dm_target_i in tqdm(dm_target_list):\n",
    "    model.set_dm_target(dm_target_i)\n",
    "    tmp0 = numqi.optimize.minimize(model, theta0='uniform', tol=1e-12, num_repeat=1, print_every_round=0).fun\n",
    "    ree_cha.append(tmp0)\n",
    "ree_cha = np.array(ree_cha)\n",
    "\n",
    "fig, ax = plt.subplots()\n",
    "ax.plot(alpha_list, ree_analytical, \"x\", label=\"analytical\")\n",
    "ax.plot(alpha_list, ree_ppt, label=\"PPT\")\n",
    "ax.plot(alpha_list, ree_cha, label=\"CHA\")\n",
    "ax.set_xlim(min(alpha_list), max(alpha_list))\n",
    "ax.set_ylim(1e-13, 1)\n",
    "ax.set_yscale('log')\n",
    "ax.set_xlabel(r\"$\\beta$\")\n",
    "ax.set_ylabel(\"REE\")\n",
    "ax.legend()\n",
    "ax.set_title(f\"Isotropic({dim})\")\n",
    "fig.tight_layout()\n"
   ]
  },
  {
   "cell_type": "markdown",
   "metadata": {},
   "source": [
    "## SEP Boundary\n",
    "\n",
    "TODO"
   ]
  }
 ],
 "metadata": {
  "kernelspec": {
   "display_name": "Python 3",
   "language": "python",
   "name": "python3"
  },
  "language_info": {
   "codemirror_mode": {
    "name": "ipython",
    "version": 3
   },
   "file_extension": ".py",
   "mimetype": "text/x-python",
   "name": "python",
   "nbconvert_exporter": "python",
   "pygments_lexer": "ipython3",
   "version": "3.11.6"
  }
 },
 "nbformat": 4,
 "nbformat_minor": 2
}
