{
 "cells": [
  {
   "cell_type": "markdown",
   "metadata": {},
   "source": [
    "# convex hull approximation\n",
    "\n",
    "Convex hull [wiki-link](https://en.wikipedia.org/wiki/Convex_hull) is a general math concept: given a set of points (could be infinite, but let's assume finite for simplicity) in Euclidean plane $\\{a_1,a_2,\\cdots,a_m\\}\\subset \\mathbb{R}^n$, the convex hull is defined as\n",
    "\n",
    "$$ \\mathrm{conv}(\\{a\\}) = \\{ x: x=\\sum_i p_ia_i, p_i\\geq 0,\\sum_ip_i=1 \\}. $$\n",
    "\n",
    "For infinite set of points $A$, the definition should be the intersection of all convex sets containing $A$.\n",
    "\n",
    "In quantum information field, the density matrix set is the convex hull of all pure states\n",
    "\n",
    "$$ \\{\\rho\\}=\\mathrm{conv}\\left( \\{x\\in\\mathbb{C}^d: \\lVert x \\rVert_2=1\\} \\right). $$\n",
    "\n",
    "and the SEP set is the convex hull of all product states\n",
    "\n",
    "$$ \\mathrm{SEP}= \\mathrm{conv}\\left( \\{x\\otimes y: x\\in\\mathbb{C}^{d_A},y\\in\\mathbb{C}^{d_B}, \\lVert x \\rVert_2=\\lVert y \\rVert_2=1\\} \\right)$$\n",
    "\n",
    "TODO\n",
    "\n",
    "$$ \\min_{p,\\psi_{A},\\psi_{B}}\\;\\mathcal{L}\\left(p,\\psi_{A},\\psi_{B};\\rho_{W,d}\\left(\\alpha\\right)\\right) $$\n",
    "\n",
    "$$ \\mathcal{L}\\left(p,\\psi_{A},\\psi_{B};\\rho_{W,d}\\left(\\alpha\\right)\\right)=S\\left(\\rho_{W,d}\\left(\\alpha\\right)\\lvert\\sigma\\right) $$\n",
    "\n",
    "$$ \\sigma=\\sum_{i}p_{i}|\\psi_{A,i}\\psi_{B,i}\\rangle\\langle\\psi_{A,i}\\psi_{B,i}| $$\n",
    "\n",
    "$$ s.t.\\;p_{i}>0,\\sum_{i}p_{i}=1,\\langle\\psi_{A,i}|\\psi_{A,i}\\rangle=\\langle\\psi_{B,i}|\\psi_{B,i}\\rangle=1 $$\n",
    "\n",
    "references\n",
    "\n",
    "1. \"Detecting entanglement by pure bosonic extension\" [arxiv-link](https://arxiv.org/abs/2209.10934)\n",
    "2. Upper bounds for relative entropy of entanglement based on active learning [doi-link](https://doi.org/10.1088/2058-9565/abb412)\n",
    "3. A Separability-Entanglement Classifier via Machine Learning [doi-link](https://doi.org/10.1103%2Fphysreva.98.012315)\n"
   ]
  },
  {
   "cell_type": "code",
   "execution_count": null,
   "metadata": {},
   "outputs": [],
   "source": []
  }
 ],
 "metadata": {
  "language_info": {
   "name": "python"
  }
 },
 "nbformat": 4,
 "nbformat_minor": 2
}
