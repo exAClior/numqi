{
 "cells": [
  {
   "cell_type": "markdown",
   "metadata": {},
   "source": [
    "# numerical range of density matrix\n",
    "\n",
    "Comment: the numerical range in this page is actually \"joint algebraic numerical range\" to be precise, but we will just call it numerical range for simplicity. \n",
    "\n",
    "Density matrix is postive semi-definite, Hermitian, trace one matrix.\n",
    "\n",
    "$$ \\{ \\rho\\in\\mathbb{C}^{d\\times d}: \\rho\\succeq 0,\\mathrm{Tr}[\\rho]=1 \\} $$\n",
    "\n",
    "a positive semi-definite matrix is always Hermitian, so we don't need to specify it."
   ]
  },
  {
   "cell_type": "code",
   "execution_count": null,
   "metadata": {},
   "outputs": [],
   "source": [
    "import numpy as np\n",
    "import matplotlib.pyplot as plt\n",
    "\n",
    "import numqi\n"
   ]
  },
  {
   "cell_type": "markdown",
   "metadata": {},
   "source": [
    "## one qubit case\n",
    "\n",
    "For one qubit case, density matrix is a $2\\times 2$ matrix, and it can be written as\n",
    "\n",
    "$$ \\rho=\\rho_{0}+\\frac{1}{2}\\vec{n}\\cdot\\vec{\\sigma} $$\n",
    "\n",
    "where $\\vec{n}\\in \\mathbb{R}^3$ is a three dimensional vector. To make sure the expression above PSD, the vector is required to be inside the Bloch sphere, i.e., $\\lVert\\vec{n}\\rVert _2\\leq 1$ [wiki-link](https://en.wikipedia.org/wiki/Bloch_sphere). And the numerical range of two operators is simply the projection of the Bloch sphere onto the plane spanned by the two operators. For this Bloch sphere, the projection is a circle if these two operators are perpendicular to each other."
   ]
  },
  {
   "cell_type": "code",
   "execution_count": null,
   "metadata": {},
   "outputs": [],
   "source": [
    "np_rng = np.random.default_rng()\n",
    "\n",
    "# generate two random, orthogonal unit vectors\n",
    "tmp0 = np_rng.uniform(-1, 1, size=3)\n",
    "vec0 = tmp0 / np.linalg.norm(tmp0)\n",
    "op0 = vec0[0] * numqi.gate.X + vec0[1] * numqi.gate.Y + vec0[2] * numqi.gate.Z\n",
    "\n",
    "tmp1 = np_rng.uniform(-1, 1, size=3)\n",
    "tmp1 = tmp1 - tmp1.dot(vec0) * vec0 # orthogonalize\n",
    "vec1 = tmp1 / np.linalg.norm(tmp1)\n",
    "op1 = vec1[0] * numqi.gate.X + vec1[1] * numqi.gate.Y + vec1[2] * numqi.gate.Z\n",
    "\n",
    "fig,ax = plt.subplots()\n",
    "theta_list = np.linspace(0, 2*np.pi, 200)\n",
    "direction = np.stack([np.cos(theta_list), np.sin(theta_list)], axis=1)\n",
    "beta_list = numqi.matrix_space.get_joint_algebraic_numerical_range([op0,op1], direction)\n",
    "ax.plot(beta_list*np.cos(theta_list), beta_list*np.sin(theta_list))\n",
    "ax.set_aspect('equal')\n",
    "ax.set_xlabel('$O_0$')\n",
    "ax.set_ylabel('$O_1$')\n",
    "_ = ax.set_title('two random orthogonal operators')\n"
   ]
  },
  {
   "cell_type": "markdown",
   "metadata": {},
   "source": [
    "task: think about what happened if these two operators are not perpendicular to each other."
   ]
  },
  {
   "cell_type": "markdown",
   "metadata": {},
   "source": [
    "## two qubits case\n",
    "\n",
    "For two qubits case, the shape of numerical range is much more complicated. Let's start with two commutative operators,\n",
    "\n",
    "$$ O_0=X\\otimes X,O_1=Z\\otimes Z $$\n",
    "\n",
    "one can verify that $[O_0,O_1]=0$."
   ]
  },
  {
   "cell_type": "code",
   "execution_count": null,
   "metadata": {},
   "outputs": [],
   "source": [
    "op0 = np.kron(numqi.gate.X, numqi.gate.X)\n",
    "op1 = np.kron(numqi.gate.Z, numqi.gate.Z)\n",
    "# op1 = np.kron(numqi.gate.Z, numqi.gate.I) + np.kron(numqi.gate.I, numqi.gate.Z)\n",
    "\n",
    "theta_list = np.linspace(0, 2*np.pi, 400)\n",
    "direction = np.stack([np.cos(theta_list), np.sin(theta_list)], axis=1)\n",
    "\n",
    "beta_dm = numqi.matrix_space.get_joint_algebraic_numerical_range([op0,op1], direction)\n",
    "nr_dm = beta_dm.reshape(-1,1)*direction\n",
    "\n",
    "fig,ax = plt.subplots(figsize=(8,6))\n",
    "ax.plot(nr_dm[:,0], nr_dm[:,1], label='JANR')\n",
    "ax.legend()\n",
    "ax.set_xlabel('$O_0$')\n",
    "ax.set_ylabel('$O_1$')\n"
   ]
  },
  {
   "cell_type": "markdown",
   "metadata": {},
   "source": [
    "The numerical range of these two operators is a square with 4 vertices. We can figure out the vertices $(1,1)$ corresponds to one Bell state\n",
    "\n",
    "$$ |\\psi\\rangle=\\frac{1}{\\sqrt{2}}(|00\\rangle + |11\\rangle) $$\n",
    "\n",
    "for that\n",
    "\n",
    "$$ \\langle \\psi | O_0 | \\psi\\rangle= \\langle \\psi | O_1 | \\psi\\rangle = 1$$\n",
    "\n",
    "**Task**: can you identify the other three vertices?\n",
    "\n",
    "**Task**: what about the numerical range of the operators $O_0=X\\otimes X,O_1=Z\\otimes I+I\\otimes Z $\n",
    "\n",
    "Then we may consider two random Hermitian operators $O_0,O_1$."
   ]
  },
  {
   "cell_type": "code",
   "execution_count": null,
   "metadata": {},
   "outputs": [],
   "source": [
    "op0 = numqi.random.rand_hermitian_matrix(4)\n",
    "op1 = numqi.random.rand_hermitian_matrix(4)\n",
    "\n",
    "theta_list = np.linspace(0, 2*np.pi, 400)\n",
    "direction = np.stack([np.cos(theta_list), np.sin(theta_list)], axis=1)\n",
    "\n",
    "beta_dm = numqi.matrix_space.get_joint_algebraic_numerical_range([op0,op1], direction)\n",
    "nr_dm = beta_dm.reshape(-1,1)*direction\n",
    "\n",
    "fig,ax = plt.subplots(figsize=(8,6))\n",
    "ax.plot(nr_dm[:,0], nr_dm[:,1], label='JANR')\n",
    "ax.legend()\n",
    "ax.set_xlabel('$O_0$')\n",
    "ax.set_ylabel('$O_1$')\n"
   ]
  },
  {
   "cell_type": "markdown",
   "metadata": {},
   "source": [
    "Since they are generated randomly, different people may get different numerical ranges. But we can still find some common features. For example, the numerical range of $O_0,O_1$ is always a convex set.\n",
    "\n",
    "At the end of this part, to demonstrate its importance, let's quickly reproduce part of results in paper \"Separability-entanglement classifier via machine learning\" [doi-link](https://doi.org/10.1103/PhysRevA.98.012315). In Fig 4 of that paper, the various numerical range of two operators are shown.\n",
    "\n",
    "$$ O_0=(\\sigma_z+\\sigma_0)\\otimes\\sigma_z/(2\\sqrt{2})  $$\n",
    "\n",
    "$$ O_1=(\\sigma_y\\otimes \\sigma_x - \\sigma_x\\otimes\\sigma_y)/2 $$\n",
    "\n",
    "In the following, you will see JNAR (the boundary of the density matrix), PPT numerical range, and k-symmetrical extension numerical range. Don't get painic if you don't know what they are, we will explain them later in entanglement detection section."
   ]
  },
  {
   "cell_type": "code",
   "execution_count": null,
   "metadata": {},
   "outputs": [],
   "source": [
    "op0 = np.kron(np.array([[1,0],[0,0]]), numqi.gate.Z)/np.sqrt(2)\n",
    "op1 = (np.kron(numqi.gate.Y, numqi.gate.X) - np.kron(numqi.gate.X, numqi.gate.Y)) / 2\n",
    "theta_list = np.linspace(0, 2*np.pi, 101)\n",
    "direction = np.stack([np.cos(theta_list), np.sin(theta_list)], axis=1)\n",
    "\n",
    "beta_dm = numqi.matrix_space.get_joint_algebraic_numerical_range([op0,op1], direction)\n",
    "nr_dm = beta_dm.reshape(-1,1)*direction\n",
    "\n",
    "beta_ppt = numqi.entangle.get_ppt_numerical_range([op0, op1], direction, dim=(2,2))\n",
    "nr_ppt = beta_ppt.reshape(-1,1)*direction\n",
    "\n",
    "# about 30 seconds (on my laptop, with MOSEK)\n",
    "# kext=12 would fail with SCS solver\n",
    "kext_list = [2,4,6,8,10] #12\n",
    "beta_kext_list = []\n",
    "for kext in kext_list:\n",
    "    beta_kext_list.append(numqi.entangle.get_ABk_extension_numerical_range([op0, op1], direction, dim=(2,2), kext=kext))\n",
    "beta_kext_list = np.stack(beta_kext_list, axis=0)\n",
    "nr_kext_list = beta_kext_list.reshape(len(kext_list),-1,1)*direction\n",
    "\n",
    "fig,ax = plt.subplots(figsize=(8,6))\n",
    "ax.plot(nr_dm[:,0], nr_dm[:,1], label='JANR')\n",
    "ax.plot(nr_ppt[:,0], nr_ppt[:,1], label='PPT')\n",
    "for kext,nr_kext_i in zip(kext_list, nr_kext_list):\n",
    "    ax.plot(nr_kext_i[:,0], nr_kext_i[:,1], label=f'{kext}-ext')\n",
    "ax.legend()\n",
    "ax.set_xlabel('$O_0$')\n",
    "ax.set_ylabel('$O_1$')\n"
   ]
  },
  {
   "cell_type": "markdown",
   "metadata": {},
   "source": [
    "One should recgnize that the orgin $(0,0)$ corresponds to the maximally mixed state $\\rho_0=I/d$ for that $\\mathrm{Tr}[\\rho_0O_0]=\\mathrm{Tr}[\\rho_0O_1]=0$. The states on the boundary of the JANR are those low-rank density matrix, i.e., pure states. In the picture, the points $(\\pm\\frac{1}{\\sqrt{2}},0)$ correspond to the pure state $|00\\rangle$ and $|01\\rangle$.\n",
    "\n",
    "Task: Besides the maximally mixed state, what other states correspond to the origin or say their expectation values of these two operators are zero?\n",
    "\n",
    "Another thing to notice is the nested structure of the k-symmetrical numerical ranges, i.e., the numerical range of $k=4$ is inside the numerical range of $k=2$, $k=6$ is inside that of $k=4$, and so on."
   ]
  }
 ],
 "metadata": {
  "kernelspec": {
   "display_name": "Python 3",
   "language": "python",
   "name": "python3"
  },
  "language_info": {
   "codemirror_mode": {
    "name": "ipython",
    "version": 3
   },
   "file_extension": ".py",
   "mimetype": "text/x-python",
   "name": "python",
   "nbconvert_exporter": "python",
   "pygments_lexer": "ipython3",
   "version": "3.11.6"
  },
  "orig_nbformat": 4
 },
 "nbformat": 4,
 "nbformat_minor": 2
}
