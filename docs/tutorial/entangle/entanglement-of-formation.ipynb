{
 "cells": [
  {
   "cell_type": "markdown",
   "metadata": {},
   "source": [
    "# Entanglement of Formation"
   ]
  },
  {
   "cell_type": "markdown",
   "metadata": {},
   "source": [
    "Given a density matrix $\\rho$, its von Neumann entropy is defined as\n",
    "\n",
    "$$ S\\left(\\rho\\right)=-\\mathrm{Tr}\\left[\\rho\\ln\\rho\\right]. $$\n",
    "\n",
    "For a bipartite system, the entanglement of formation (EOF) of a pure state $\\left|\\psi\\right\\rangle \\in\\mathcal{H}_{A}\\otimes\\mathcal{H}_{B}$ is defined as\n",
    "\n",
    "$$ E\\left(\\left|\\psi\\right\\rangle \\right)=S\\left(\\rho_{A}\\right)=S\\left(\\rho_{B}\\right) $$\n",
    "\n",
    "where $\\rho_A,\\rho_B$ is its reduced density matrix on subsystem $A$ and $B$ respectively\n",
    "\n",
    "$$ \\rho_{A}=\\mathrm{Tr}_{B}\\left[\\left|\\psi\\right\\rangle \\left\\langle \\psi\\right|\\right],\\rho_{B}=\\mathrm{Tr}_{A}\\left[\\left|\\psi\\right\\rangle \\left\\langle \\psi\\right|\\right]. $$\n",
    "\n",
    "For a bipartite density matrix $\\rho$, its EOF is defined as\n",
    "\n",
    "$$ E\\left(\\rho\\right)=\\min_{\\left\\{ \\vec{p},\\vec{\\psi}\\right\\} }\\sum_{i}p_{i}E\\left(\\left|\\psi_{i}\\right\\rangle \\right) $$\n",
    "\n",
    "$$ s.t.\\begin{cases}\n",
    "\\rho=\\sum_{i}p_{i}\\left|\\psi_{i}\\right\\rangle \\left\\langle \\psi_{i}\\right|\\\\\n",
    "p_{i}>0\\\\\n",
    "\\langle\\psi_{i}|\\psi_{i}\\rangle=1\n",
    "\\end{cases} $$\n",
    "\n",
    "For Werner state, its EOF is given in paper [doi-link](https://doi.org/10.1007/s11704-008-0017-8). Below, we use the variational method to calculate the EOF of Werner state as proposed in paper [doi-link](https://doi.org/10.1103/PhysRevA.64.052304)\n"
   ]
  },
  {
   "cell_type": "code",
   "execution_count": null,
   "metadata": {},
   "outputs": [],
   "source": [
    "import numpy as np\n",
    "from tqdm.notebook import tqdm\n",
    "import matplotlib.pyplot as plt\n",
    "\n",
    "import numqi\n"
   ]
  },
  {
   "cell_type": "code",
   "execution_count": null,
   "metadata": {},
   "outputs": [],
   "source": [
    "dim = 3\n",
    "alpha_list = np.linspace(-1, 1, 150)\n",
    "eof_analytical = numqi.state.get_Werner_eof(dim, alpha_list)\n"
   ]
  },
  {
   "cell_type": "markdown",
   "metadata": {},
   "source": [
    "For variational method, we need to perform an optimization for each of target density matrix."
   ]
  },
  {
   "cell_type": "code",
   "execution_count": null,
   "metadata": {},
   "outputs": [],
   "source": [
    "model = numqi.entangle.EntanglementFormationModel(dim, dim, num_term=2*dim*dim)\n",
    "eof_variational = []\n",
    "kwargs = dict(num_repeat=1, print_freq=0, tol=1e-9, print_every_round=0)\n",
    "for x in tqdm(alpha_list): #about 1 min\n",
    "    model.set_density_matrix(numqi.state.Werner(dim, x))\n",
    "    theta_optim = numqi.optimize.minimize(model, **kwargs)\n",
    "    eof_variational.append(theta_optim.fun)\n",
    "eof_variational = np.array(eof_variational)\n"
   ]
  },
  {
   "cell_type": "markdown",
   "metadata": {},
   "source": [
    "Above, the hyper-parameters, e.g. `num_term=2*dim*dim` and `num_repeat=1`, may not the best choice. You can try to change them to get a better result."
   ]
  },
  {
   "cell_type": "code",
   "execution_count": null,
   "metadata": {},
   "outputs": [],
   "source": [
    "fig,ax = plt.subplots()\n",
    "ax.plot(alpha_list, eof_analytical, 'x', label='analytical')\n",
    "ax.plot(alpha_list, eof_variational, label='variational')\n",
    "ax.legend()\n",
    "ax.set_xlabel(r'$\\alpha$')\n",
    "ax.set_yscale('log')\n",
    "ax.set_ylabel('EOF')\n",
    "ax.set_title(f'Werner({dim})')\n",
    "fig.tight_layout()\n"
   ]
  },
  {
   "cell_type": "markdown",
   "metadata": {},
   "source": [
    "For $\\alpha\\in[-1,\\frac{1}{3}]$, the true EOF (cross in the figure) is zero, so it's not shown in the `yscale='log'` figure. We can see that the variational results (solid line) is almost the same as the true EOF (cross) in the whole range$.\n",
    "\n",
    "*TASK*: try Isotropic state which also has analytical EOF."
   ]
  }
 ],
 "metadata": {
  "kernelspec": {
   "display_name": "Python 3",
   "language": "python",
   "name": "python3"
  },
  "language_info": {
   "codemirror_mode": {
    "name": "ipython",
    "version": 3
   },
   "file_extension": ".py",
   "mimetype": "text/x-python",
   "name": "python",
   "nbconvert_exporter": "python",
   "pygments_lexer": "ipython3",
   "version": "3.11.4"
  }
 },
 "nbformat": 4,
 "nbformat_minor": 2
}
