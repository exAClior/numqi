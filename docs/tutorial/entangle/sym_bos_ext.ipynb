{
 "cells": [
  {
   "cell_type": "markdown",
   "metadata": {},
   "source": [
    "# Symmetric/bosonic extension"
   ]
  },
  {
   "cell_type": "code",
   "execution_count": null,
   "metadata": {},
   "outputs": [],
   "source": [
    "import numpy as np\n",
    "import numqi"
   ]
  },
  {
   "cell_type": "markdown",
   "metadata": {},
   "source": [
    "Symmetric extension is a hierarchical method to approximate the set of separable states. A bipartite state $\\rho_{AB}$ is said to be $k$-symmetric extendible if there exists a global state $\\rho_{AB^k}:=\\rho_{AB_1B_2...B_k}$ such that for any $i,j$\n",
    "\n",
    "$$\n",
    "\\begin{cases}\n",
    "\\operatorname{Tr}_{B_2 \\cdots B_k}\\left[\\rho_{A B^k}\\right] & =\\rho_{A B}, \\\\\n",
    "\\left(\\mathbb{I}_A \\otimes P_{i j}\\right) \\rho_{A B^k}\\left(\\mathbb{I}_A \\otimes P_{i j}\\right) & =\\rho_{A B^k},\n",
    "\\end{cases}\n",
    "$$\n",
    "\n",
    "where $P_{ij}$ is the permutation operator that swaps the $i$-th and $j$-th subsystems. The set of $k$-symmetric extendible states is denoted by $\\Theta_{k}$, which is convex with a hierarchical structure that $\\Theta_{k+1} \\subset \\Theta_{k}$. Moreover, when $k \\rightarrow \\infty$, $\\Theta_{k}$ converges to the set of separable states.\n",
    "\n",
    "The $k$-bosonic extendible set $\\bar{\\Theta}_k$ is a convex subset of $\\Theta_k$, which further requires the global state $\\rho_{AB^k}$ is supported on the symmetric subspace of $B_1B_2...B_k$. Similarly, we have the hierarchical relation $\\bar{\\Theta}_{k+1} \\subset \\bar{\\Theta}_{k}$ and $\\bar{\\Theta}_{\\infty} = SEP$. PPT constraint can also be considered.\n",
    "\n",
    "In summary, given a quantum state $\\rho_{AB}$, we can use the following semidefinite program to check whether it is (PPT) $k$-symmetric/bosonic extendible:\n",
    "\n",
    "$$\n",
    "\\text{Find}~\\rho_{AB^k}\n",
    "$$\n",
    "\n",
    "$$\n",
    "s.t.\\;\n",
    "\\begin{cases}\n",
    "\\operatorname{Tr}_{B_2 \\cdots B_k}\\left[\\rho_{A B^k}\\right] & =\\rho_{A B}, \\\\\n",
    "\\rho_{AB^k} \\succeq 0,\\\\\n",
    "\\left(\\mathbb{I}_A \\otimes P_{i j}\\right) \\rho_{A B^k}\\left(\\mathbb{I}_A \\otimes P_{i j}\\right) & =\\rho_{A B^k}, ~(\\text{Symmetric})\\\\\n",
    "\\left(\\mathbb{I}_A \\otimes P_{i j}\\right) \\rho_{A B^k} & =\\rho_{A B^k}, ~(\\text{Bosonic})\\\\\n",
    "\\rho_{AB^k}^{\\Gamma_A} \\succeq 0, ~(\\text{PPT})\n",
    "\\end{cases}\n",
    "$$\n"
   ]
  },
  {
   "cell_type": "code",
   "execution_count": null,
   "metadata": {},
   "outputs": [],
   "source": [
    "dimA = 3\n",
    "dimB = 3\n",
    "kext = 2\n",
    "# generate a random separable state\n",
    "rho_AB = numqi.random.rand_separable_dm(dimA, dimB)\n",
    "# check if the state is k-symmetric extendible\n",
    "is_kext = numqi.entangle.check_ABk_symmetric_extension(rho_AB, (dimA,dimB), kext, use_ppt=False, use_boson=False)\n",
    "print(\"Is the state k-symmetric extendible?\", is_kext)"
   ]
  },
  {
   "cell_type": "markdown",
   "metadata": {},
   "source": [
    "Since the (PPT) $k$-symmetric/bosonic extendible set converges to the set of separable states with $k$ increases, we can use the following semidefinite program to approximate the relative entropy of entanglement (REE) for a given state $\\rho_{AB}$, which is a lower bound of the REE:\n",
    "\n",
    "$$ \\min_{\\sigma_{A B}} S(\\sigma_{A B} \\| \\rho_{AB})$$\n",
    "\n",
    "$$\n",
    "s.t.\\;\n",
    "\\begin{cases}\n",
    "\\sigma_{AB^k} \\succeq 0, ~\\operatorname{Tr}[\\sigma_{AB^k}]=1,\\\\\n",
    "\\operatorname{Tr}_{B_2 \\cdots B_k}\\left[\\sigma_{A B^k}\\right] & =\\sigma_{A B}, \\\\\n",
    "\\left(\\mathbb{I}_A \\otimes P_{i j}\\right) \\sigma_{A B^k}\\left(\\mathbb{I}_A \\otimes P_{i j}\\right) & =\\sigma_{A B^k}, ~(\\text{Symmetric})\\\\\n",
    "\\left(\\mathbb{I}_A \\otimes P_{i j}\\right) \\sigma_{A B^k} & =\\sigma_{A B^k}, ~(\\text{Bosonic})\\\\\n",
    "\\sigma_{AB^k}^{\\Gamma_A} \\succeq 0, ~(\\text{PPT})\n",
    "\\end{cases}\n",
    "$$"
   ]
  },
  {
   "cell_type": "markdown",
   "metadata": {},
   "source": []
  },
  {
   "cell_type": "code",
   "execution_count": null,
   "metadata": {},
   "outputs": [],
   "source": [
    "dimA = 3\n",
    "dimB = 3\n",
    "kext = 2\n",
    "# generate a random separable state\n",
    "rho_AB = numqi.random.rand_separable_dm(dimA, dimB)\n",
    "# approximate ree\n",
    "ree = numqi.entangle.get_ABk_symmetric_extension_ree(rho_AB, (dimA,dimB), kext, use_ppt=False, use_boson=False)\n",
    "print(\"approximated REE of the random separable state:\", ree)"
   ]
  },
  {
   "cell_type": "markdown",
   "metadata": {},
   "source": [
    "Take the Werner state as an example, which has the following form\n",
    "\n",
    "$$ \\rho_{W,d}\\left(\\alpha\\right)=\\frac{1}{d^{2}-d\\alpha}I-\\frac{\\alpha}{d^{2}-d\\alpha}\\sum_{ij}\\left|ij\\right\\rangle \\left\\langle ji\\right|,\\quad\\alpha\\in\\left[-1,1\\right] $$\n",
    "\n",
    "Werner state is separable for $\\alpha\\in\\left[-1,\\frac{1}{d}\\right]$, and entangled for $\\alpha\\in\\left(\\frac{1}{d},1\\right]$. The REE of Werner state is given in paper \"Entanglement measures under symmetry\" [doi-link](https://doi.org/10.1103/PhysRevA.64.062307).\n",
    "\n",
    "$$ \\mathrm{REE\\left(\\rho_{W,d}(\\alpha)\\right)=\\begin{cases}\n",
    "0 & \\alpha\\in\\left[-1,\\frac{1}{d}\\right]\\\\\n",
    "S\\left(\\rho_{W,d}(\\alpha)\\lvert\\rho_{W,d}\\left(\\frac{1}{d}\\right)\\right) & \\alpha\\in\\left[\\frac{1}{d},1\\right]\n",
    "\\end{cases}} $$"
   ]
  },
  {
   "cell_type": "code",
   "execution_count": null,
   "metadata": {},
   "outputs": [],
   "source": [
    "dim = 2\n",
    "alpha_list = np.linspace(0, 1, 100, endpoint=False) # alpha=1 is unstable for matrix logarithm\n",
    "dm_target_list = [numqi.state.Werner(dim, x) for x in alpha_list]\n",
    "# Analytical REE of Werner states\n",
    "ree_analytical = np.array([numqi.state.get_Werner_ree(dim, x) for x in alpha_list])\n",
    "# REE of Werner states obtained by PPT\n",
    "ree_ppt = numqi.entangle.get_ppt_ree(dm_target_list, dim, dim)\n",
    "kext = [2, 4, 6]\n",
    "# Create an two-dimensional array to store the REE of Werner states obtained by symmetric extension\n",
    "ree_sym_ext = []\n",
    "for k in kext:\n",
    "    ree_kext = []\n",
    "    for dm_target in dm_target_list:\n",
    "        ree_kext.append(numqi.entangle.get_ABk_symmetric_extension_ree(dm_target, (dim,dim), k, use_ppt=False, use_boson=False))\n",
    "    ree_sym_ext.append(ree_kext)\n",
    "ree_sym_ext = np.array(ree_sym_ext)"
   ]
  },
  {
   "cell_type": "code",
   "execution_count": null,
   "metadata": {},
   "outputs": [],
   "source": [
    "import matplotlib.pyplot as plt\n",
    "\n",
    "fig, ax = plt.subplots()\n",
    "ax.plot(alpha_list, ree_analytical, \"x\", label=\"analytical\")\n",
    "ax.plot(alpha_list, ree_ppt, label=\"PPT\")\n",
    "for k, ree_kext in zip(kext, ree_sym_ext):\n",
    "    ax.plot(alpha_list, ree_kext, label=f\"{k}-symmetric extension\")\n",
    "ax.set_xlim(min(alpha_list), max(alpha_list))\n",
    "ax.set_ylim(1e-13, 1)\n",
    "ax.set_yscale('log')\n",
    "ax.set_xlabel(r\"$\\alpha$\")\n",
    "ax.set_ylabel(\"REE\")\n",
    "ax.set_title(f'Werner({dim})')\n",
    "ax.legend()\n",
    "fig.tight_layout()"
   ]
  }
 ],
 "metadata": {
  "kernelspec": {
   "display_name": "Python 3",
   "language": "python",
   "name": "python3"
  },
  "language_info": {
   "codemirror_mode": {
    "name": "ipython",
    "version": 3
   },
   "file_extension": ".py",
   "mimetype": "text/x-python",
   "name": "python",
   "nbconvert_exporter": "python",
   "pygments_lexer": "ipython3",
   "version": "3.11.6"
  }
 },
 "nbformat": 4,
 "nbformat_minor": 2
}
