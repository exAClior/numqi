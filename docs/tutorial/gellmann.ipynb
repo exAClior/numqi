{
 "cells": [
  {
   "cell_type": "markdown",
   "metadata": {},
   "source": [
    "# Gell-Mann matrix\n",
    "\n",
    "Gell-Mann matrices are a set of Hermitian matrices."
   ]
  },
  {
   "cell_type": "code",
   "execution_count": null,
   "metadata": {},
   "outputs": [],
   "source": [
    "import numpy as np\n",
    "import numqi\n",
    "\n",
    "np_rng = np.random.default_rng()\n"
   ]
  },
  {
   "cell_type": "markdown",
   "metadata": {},
   "source": [
    "## d=3\n",
    "\n",
    "Usually, they denotes the following $8$ matrices with $3$ columns and $3$ rows. [wiki/Gell-Mann-matrices](https://en.wikipedia.org/wiki/Gell-Mann_matrices) One can retrieve these matrices matrices via `numqi.gellmann` module as follows. The order of the matrices is different from the one in the wiki page and `numqi` chose this one for easier manipulation when $d$ is not $3$."
   ]
  },
  {
   "cell_type": "code",
   "execution_count": null,
   "metadata": {},
   "outputs": [],
   "source": [
    "gm3 = numqi.gellmann.all_gellmann_matrix(3, with_I=False)\n",
    "for x in gm3:\n",
    "    print(x.real if (x.imag.max() < 1e-4) else x)\n"
   ]
  },
  {
   "cell_type": "markdown",
   "metadata": {},
   "source": [
    "## d=2 Pauli\n",
    "\n",
    "Generalized Gell-Mann matrices are also introduced when $d$ is not $3$ [wiki/generalization-pauli](https://en.wikipedia.org/wiki/Generalizations_of_Pauli_matrices). And specifically, when $d=2$, the generalized Gell-Mann matrices are the Pauli matrices. For brief, we will call the generalized Gell-Mann matrices as Gell-Mann matrices. "
   ]
  },
  {
   "cell_type": "code",
   "execution_count": null,
   "metadata": {},
   "outputs": [],
   "source": [
    "gm2 = numqi.gellmann.all_gellmann_matrix(2, with_I=False)\n",
    "for x in gm2:\n",
    "    print(x.real if (x.imag.max() < 1e-4) else x)\n"
   ]
  },
  {
   "cell_type": "markdown",
   "metadata": {},
   "source": [
    "## d=4\n",
    "\n",
    "For $d$-dimensional Gell-Mann matrices, there is $d^2-1$ matrices. The first $d(d-1)/2$ matrices are real symmetric matrices (Pauli-X like), the following $d(d-1)/2$ matrics are pure imaginary anti-symmetric matrices (Pauli-Y like), and the last $d-1$ matrices are real diagonal matrices (Pauli-Z like). They are orthogonal to each other with respect to the Hilbert-Schmidt inner product and they make up a basis for the space of tracelss Hermitian matrices."
   ]
  },
  {
   "cell_type": "code",
   "execution_count": null,
   "metadata": {},
   "outputs": [],
   "source": [
    "d = 4\n",
    "gmd = numqi.gellmann.all_gellmann_matrix(d, with_I=False)\n",
    "\n",
    "print('Pauli-X like Gell-Mann matric, real, symmetric, off-diagonal')\n",
    "ind0 = np_rng.integers(0, d*(d-1)//2)\n",
    "print(f'$M_{ind0}$=\\n', gmd[ind0].real)\n",
    "\n",
    "print('Pauli-Y like Gell-Mann matric, pure imaginary, anti-symmetric, off-diagonal')\n",
    "ind1 = np_rng.integers(d*(d-1)//2, d*(d-1))\n",
    "print(f'$M_{ind1}$=\\n', gmd[ind1])\n",
    "\n",
    "print('Pauli-Z like Gell-Mann matric, real, diagonal')\n",
    "ind2 = np_rng.integers(d*(d-1), d*d-1)\n",
    "print(f'$M_{ind2}$=\\n', gmd[ind2].real)\n"
   ]
  },
  {
   "cell_type": "markdown",
   "metadata": {},
   "source": [
    "## identity matrix\n",
    "\n",
    "Sometimes, the identity matrix is also included in the Gell-Mann matrices to make a complete, orthogonal basis for Hermitian basis. In this case, the number of Gell-Mann matrices is $d^2$. `numqi.gellmann` module append this identity matrix $M_{d^2-1}=\\sqrt{2/d}I$ to the Gell-Mann matrices as the last element.\n",
    "\n",
    "\"Orthogonal\" means that the Hilbert-Schmidt inner product of any two matrices is zero. The Hilbert-Schmidt inner product of two matrices $A$ and $B$ is defined as $\\langle A, B \\rangle = \\mathrm{Tr}(A^\\dagger B)$. As for the Gell-Mann matrices, their Hilbert-Schmidt inner product\n",
    "\n",
    "$$ \\langle M_i,M_j\\rangle=2\\delta_{ij} $$\n",
    "\n",
    "where $\\delta_{ij}$ is the Kronecker delta and the factor $2$ is due to the normalization of the Gell-Mann matrices (so that when $d=2$, it will recover the Pauli matrices)."
   ]
  },
  {
   "cell_type": "code",
   "execution_count": null,
   "metadata": {},
   "outputs": [],
   "source": [
    "gmd = numqi.gellmann.all_gellmann_matrix(d) #with_I=True (default)\n",
    "print(f'identity: \\n{gmd[-1].real}')\n",
    "\n",
    "mat0,mat1 = gmd[np_rng.permutation(d*d)[:2]] # randomly pick two matrix\n",
    "print(f'mat0=\\n{mat0}\\nmat1=\\n{mat1}')\n",
    "print('<mat0,mat0>=', np.trace(mat0.conj().T @ mat0))\n",
    "print('<mat1,mat1>=', np.trace(mat1.conj().T @ mat1))\n",
    "print('<mat0,mat1>=', np.trace(mat0.conj().T @ mat1))\n"
   ]
  },
  {
   "cell_type": "markdown",
   "metadata": {},
   "source": [
    "\"Complete\" basis means any Hermitian matrix can be expressed as a linear combination of the Gell-Mann matrices with real coefficients, and any matrix (Hermitian or non-Hermitian) can be expressed as a linear combination of the Gell-Mann matrices with complex coefficients.\n",
    "\n",
    "$$ A=\\sum_i a_i M_i,a_i=\\langle M_i,A \\rangle/2. $$\n",
    "\n",
    "When the matrix $A$ is Hermitian, the coefficients $a_i$ are real. When the matrix $A$ is non-Hermitian, the coefficients $a_i$ are complex."
   ]
  },
  {
   "cell_type": "code",
   "execution_count": null,
   "metadata": {},
   "outputs": [],
   "source": [
    "d = 3\n",
    "\n",
    "print('non-Hermitian matrix')\n",
    "matA = np.around(np_rng.uniform(-1,1,size=(d,d)) + 1j*np_rng.uniform(-1,1,size=(d,d)), 3)\n",
    "coeff = numqi.gellmann.matrix_to_gellmann_basis(matA)\n",
    "print(f'matA=\\n{matA}')\n",
    "print(f'coeff=\\n{coeff}')\n",
    "\n",
    "print('\\nHermitian matrix')\n",
    "matA = matA + matA.T.conj()\n",
    "coeff = numqi.gellmann.matrix_to_gellmann_basis(matA)\n",
    "print(f'matA=\\n{matA}')\n",
    "print(f'coeff.real=\\n{coeff.real}')\n",
    "print(f'coeff.imag=\\n{coeff.imag}')\n",
    "\n",
    "matA_restored = numqi.gellmann.gellmann_basis_to_matrix(coeff)\n",
    "print(f'matA_restored=\\n{matA_restored}')\n"
   ]
  },
  {
   "cell_type": "markdown",
   "metadata": {},
   "source": [
    "## connection with Frobenius inner product\n",
    "\n",
    "Given two matrix $A,B\\in\\mathbb{C}^{m\\times n}$, their Frobenius inner product [wiki](https://en.wikipedia.org/wiki/Frobenius_inner_product) is defined\n",
    "\n",
    "$$ \\langle A,B\\rangle_{fro}=\\sum_{ij} A_{ij}^* B_{ij}=\\mathrm{Tr}[A^\\dagger B] $$\n",
    "\n",
    "If we choose the Gell-Mann matrices as the basis for the space of $n\\times n$ matrices, then the Frobenius inner product of two matrices is related to the inner product of two coefficient vectors.\n",
    "\n",
    "$$ A=\\sum_i a_i M_i,a_i=\\langle M_i,A \\rangle/2. $$\n",
    "\n",
    "$$ B=\\sum_i b_i M_i,b_i=\\langle M_i,B \\rangle/2. $$\n",
    "\n",
    "$$ \\langle A,B\\rangle_{fro} = 2\\langle \\vec{a},\\vec{b}\\rangle=2\\sum_i{a_i^*b_i} $$\n"
   ]
  },
  {
   "cell_type": "code",
   "execution_count": null,
   "metadata": {},
   "outputs": [],
   "source": [
    "d = 4\n",
    "matA = np.around(np_rng.uniform(-1,1,size=(d,d)) + 1j*np_rng.uniform(-1,1,size=(d,d)), 3)\n",
    "coeffA = numqi.gellmann.matrix_to_gellmann_basis(matA)\n",
    "matB = np.around(np_rng.uniform(-1,1,size=(d,d)) + 1j*np_rng.uniform(-1,1,size=(d,d)), 3)\n",
    "coeffB = numqi.gellmann.matrix_to_gellmann_basis(matB)\n",
    "\n",
    "print('<A,B>=', np.trace(matA.T.conj() @ matB))\n",
    "print('<coeffA,coeffB>=', 2*np.vdot(coeffA, coeffB))\n"
   ]
  },
  {
   "cell_type": "markdown",
   "metadata": {},
   "source": [
    "## connection with density matrix\n",
    "\n",
    "Vectorization of density matrix see paper \"Detecting entanglement by pure bosonic extension\" [arxiv-link](https://arxiv.org/abs/2209.10934)\n",
    "\n",
    "The density matrix is a Hermitian matrix with trace $1$. The density matrix can be expanded as a linear combination of the Gell-Mann matrices with real coefficients. For a $d$-dimensional system,\n",
    "\n",
    "$$ \\rho=\\rho_0+\\sum_{i=0}^{d^2-2}\\vec{\\rho}_iM_i $$\n",
    "\n",
    "where $\\vec{\\rho}$ is a real vector with $d^2-1$ components and $\\rho_0$ is the maximally mixed state. Apparently, the maximally mixed state $\\rho_0$ will correspond to the zero vector $\\vec{\\rho}=0$."
   ]
  },
  {
   "cell_type": "code",
   "execution_count": null,
   "metadata": {},
   "outputs": [],
   "source": [
    "rho0 = np.eye(3)/3\n",
    "vec0 = numqi.gellmann.dm_to_gellmann_basis(rho0)\n",
    "print(f'vec(maximally mixed state)=\\n{vec0}')\n",
    "\n",
    "rho = numqi.random.rand_density_matrix(3)\n",
    "vec = numqi.gellmann.dm_to_gellmann_basis(rho)\n",
    "print(f'vec(random density matrix)=\\n{vec}')\n"
   ]
  },
  {
   "cell_type": "markdown",
   "metadata": {},
   "source": [
    "The purity $\\gamma_{\\rho}$ of a density matrix $\\rho$ is closely related to the norm of the coefficient vector $\\vec{\\rho}$\n",
    "\n",
    "$$\\gamma_{\\rho}=\\mathrm{Tr}\\left[ \\rho ^2 \\right] =\\frac{1}{d}+2\\lVert\\vec{\\rho}\\rVert^{2}_2$$\n",
    "\n",
    "It's easy to see that the purity is always larger than $1/d$ and the maximum mixed state $\\rho=I/d$ gives the minimum purity $1/d$.\n"
   ]
  },
  {
   "cell_type": "code",
   "execution_count": null,
   "metadata": {},
   "outputs": [],
   "source": [
    "d = 4\n",
    "rho = numqi.random.rand_density_matrix(d)\n",
    "vec = numqi.gellmann.dm_to_gellmann_basis(rho)\n",
    "purity = np.trace(rho @ rho).real\n",
    "purity_from_vec = 1/d + 2*np.vdot(vec, vec).real\n",
    "print(f'purity={purity}, purity_from_vec={purity_from_vec}')\n"
   ]
  },
  {
   "cell_type": "markdown",
   "metadata": {},
   "source": [
    "TODO some conjectures about the length of the density matrix vector\n",
    "\n",
    "$$ \\min\\left\\{ \\left\\Vert \\vec{\\rho}\\right\\Vert_2 :\\rho\\succeq0,\\mathrm{Tr}[\\rho]=1,\\mathrm{rank}(\\rho)=1\\right\\} $$\n",
    "\n",
    "$$ \\max\\left\\{ \\left\\Vert \\vec{\\rho}\\right\\Vert_2 :\\rho\\succeq0,\\mathrm{Tr}[\\rho]=1,\\mathrm{rank}(\\rho)=1\\right\\} $$\n",
    "\n",
    "$$ \\min\\left\\{ \\left\\Vert \\vec{\\rho}\\right\\Vert_2 :\\rho\\succeq0,\\mathrm{Tr}[\\rho]=1,\\mathrm{rank}(\\rho)<d\\right\\} $$\n",
    "\n",
    "$$ \\max\\left\\{ \\left\\Vert \\vec{\\rho}\\right\\Vert_2 :\\rho\\succeq0,\\mathrm{Tr}[\\rho]=1,\\mathrm{rank}(\\rho)<d\\right\\} $$\n"
   ]
  }
 ],
 "metadata": {
  "kernelspec": {
   "display_name": "Python 3",
   "language": "python",
   "name": "python3"
  },
  "language_info": {
   "codemirror_mode": {
    "name": "ipython",
    "version": 3
   },
   "file_extension": ".py",
   "mimetype": "text/x-python",
   "name": "python",
   "nbconvert_exporter": "python",
   "pygments_lexer": "ipython3",
   "version": "3.11.4"
  }
 },
 "nbformat": 4,
 "nbformat_minor": 2
}
