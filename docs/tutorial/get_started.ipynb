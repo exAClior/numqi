{
 "cells": [
  {
   "cell_type": "markdown",
   "metadata": {},
   "source": [
    "# Get Started\n",
    "\n",
    "We assume some basic knowledge about how to use `numpy` [numpy-documentation](https://numpy.org/doc/)\n",
    "\n",
    "`numqi` is a toolbox for various kind of quantum information tasks, like entanglement detection, quantum error correction code, quantum state tomography, etc. It is based on `numpy` and `pytorch` and is designed to be easy to use and easy to extend.\n",
    "\n",
    "We recommend to use `import numqi` for importing the toolbox.\n"
   ]
  },
  {
   "cell_type": "code",
   "execution_count": null,
   "metadata": {},
   "outputs": [],
   "source": [
    "import numpy as np\n",
    "import matplotlib.pyplot as plt\n",
    "\n",
    "import numqi\n"
   ]
  },
  {
   "cell_type": "markdown",
   "metadata": {},
   "source": [
    "## quantum state\n",
    "\n",
    "Quantum state can be divided into\n",
    "\n",
    "1. pure state: one dimensional vector\n",
    "2. density matrix: two dimensional matrix\n"
   ]
  },
  {
   "cell_type": "markdown",
   "metadata": {},
   "source": [
    "## Pure state\n",
    "\n",
    "**definition**: a complex vector (array) with length 1, usually denoted using Dirac (bra-ket) notation [wiki/bra-ket-notation](https://en.wikipedia.org/wiki/Bra%E2%80%93ket_notation) $|\\phi\\rangle,|\\psi\\rangle$. If the vector has $d$ components, we call it qudit with $d$. Specially, when $d=2$, we call it qubit. let's see some examples.\n",
    "\n",
    "qubit: be care the state $|0\\rangle,|1\\rangle$ are used conventional in this field and they are also called basis (computational basis)\n",
    "\n",
    "$$ |0\\rangle=[1,0]$$\n",
    "\n",
    "$$ |1\\rangle=[0,1] $$\n",
    "\n",
    "$$ |\\psi\\rangle=[0.6, 0.48+0.64j] $$\n",
    "\n",
    "qutrit (qudit with $d=3$):\n",
    "\n",
    "$$ |\\psi\\rangle = [0.6,0.48,0.64] $$\n",
    "\n",
    "2 qubits (or qudit with $d=4$)\n",
    "\n",
    "$$ |\\psi\\rangle = [0.36,0.48j,0.48,0.64] $$\n",
    "\n",
    "more generally for any qudit of size $d$\n",
    "\n",
    "$$ |\\psi\\rangle=\\sum_{x=0}^{d-1}\\psi_x|x\\rangle $$\n",
    "\n",
    "The **length** (norm) is measured in complex 2-norm and its norm should always be one (unit)\n",
    "\n",
    "$$\\lVert |\\psi \\rVert_2=\\sum_{x=0}^{d-1}\\psi_x\\psi_x^*=1$$\n",
    "\n",
    "We can create pure states using `numpy` or `numqi` (they are simply `numpy` array)"
   ]
  },
  {
   "cell_type": "code",
   "execution_count": null,
   "metadata": {},
   "outputs": [],
   "source": [
    "psi0 = np.array([1,0])\n",
    "psi1 = np.array([0,1])\n",
    "psi2 = np.array([0.6,0.8j])\n",
    "print(f'{psi0=}')\n",
    "print(f'{psi1=}')\n",
    "print(f'{psi2=}')\n"
   ]
  },
  {
   "cell_type": "code",
   "execution_count": null,
   "metadata": {},
   "outputs": [],
   "source": [
    "# qudit (d=4)\n",
    "psi0 = np.array([0.36, 0.48j, 0.48, 0.64])\n",
    "psi1 = np.array([1,2,3,4])/np.sqrt(30)\n",
    "psi2 = np.array([0,1,-1,0])/np.sqrt(2) #Bell state (pure state)\n",
    "print(f'{psi0=}')\n",
    "print(f'{psi1=}')\n",
    "print(f'{psi2=}')\n"
   ]
  },
  {
   "cell_type": "markdown",
   "metadata": {},
   "source": [
    "and we can also generate random pure state using `numqi.random.rand_state(d)` where `d` is the dimension of the qudit."
   ]
  },
  {
   "cell_type": "code",
   "execution_count": null,
   "metadata": {},
   "outputs": [],
   "source": [
    "# qudit (d=5): random qudit state\n",
    "psi0 = numqi.random.rand_state(5)\n",
    "print(f'{psi0=}')\n"
   ]
  },
  {
   "cell_type": "markdown",
   "metadata": {},
   "source": [
    "To evaluate its norm, one should always get almost 1 up to machine precision"
   ]
  },
  {
   "cell_type": "code",
   "execution_count": null,
   "metadata": {},
   "outputs": [],
   "source": [
    "psi0 = numqi.random.rand_state(233)\n",
    "print(np.linalg.norm(psi0)) #1.0\n"
   ]
  },
  {
   "cell_type": "markdown",
   "metadata": {},
   "source": [
    "Inner product between two pure states can be done using `np.vdot`. For example, the inner product between $|0\\rangle$ and $|1\\rangle$ is 0. Generally, the inner product between two pure states will be a complex number with absolute value less than 1."
   ]
  },
  {
   "cell_type": "code",
   "execution_count": null,
   "metadata": {},
   "outputs": [],
   "source": [
    "psi0 = np.array([1,0])\n",
    "psi1 = np.array([0,1])\n",
    "print(np.vdot(psi0,psi1)) #0.0\n",
    "\n",
    "psi0 = numqi.random.rand_state(23)\n",
    "psi1 = numqi.random.rand_state(23)\n",
    "print(np.vdot(psi0,psi1))\n"
   ]
  },
  {
   "cell_type": "markdown",
   "metadata": {},
   "source": [
    "There are some special pure states\n",
    "\n",
    "1. GHZ state [wiki/ghz-state](https://en.wikipedia.org/wiki/Greenberger%E2%80%93Horne%E2%80%93Zeilinger_state)\n",
    "2. Bell state [wiki/bell-state](https://en.wikipedia.org/wiki/Bell_state)\n",
    "3. W state [wiki/w-state](https://en.wikipedia.org/wiki/W_state)\n",
    "4. maximally entangled state $|\\psi\\rangle=\\frac{1}{\\sqrt{d}}\\sum_{i=1}^d{|ii\\rangle}$ [wiki/quantum-entanglement](https://en.wikipedia.org/wiki/Quantum_entanglement#Entropy)"
   ]
  },
  {
   "cell_type": "code",
   "execution_count": null,
   "metadata": {},
   "outputs": [],
   "source": [
    "state_bell = np.array([1,0,0,1]) / np.sqrt(2) #array of length 4\n",
    "state_ghz = np.array([1,0,0,0, 0,0,0,1]) / np.sqrt(2) #array of length 8\n",
    "state_w = np.array([0,1,1,0, 1,0,0,0]) / np.sqrt(3) #array of length 8\n",
    "print(f'{state_bell=}')\n",
    "print(f'{state_ghz=}')\n",
    "print(f'{state_w=}')\n"
   ]
  },
  {
   "cell_type": "markdown",
   "metadata": {},
   "source": [
    "*task*: how to create a maximally entangled state of size $d=3$?"
   ]
  },
  {
   "cell_type": "markdown",
   "metadata": {},
   "source": [
    "## Density matrix\n",
    "\n",
    "**definition**: a Hermitian, semi-definite matrix with trace 1, usually denoted with symbol $\\rho$. If this matrix has $d$ column and $d$ row (columns must be equal to rows), we call it density matrix of qudit with $d$ dimension and write it as\n",
    "\n",
    "$$\\rho=\\sum_{i,j=0}^{d-1} \\rho_{ij}|i\\rangle\\langle j|$$\n",
    "\n",
    "where $\\rho_{ij}$ is the numerical value at i-th row j-th column, $|i\\rangle$ is the i-th basis (ket, pure state with only $i$-th component 1), $\\langle j|$ is the j-th basis (a row vector, complex transpose of the corresponding $|j\\rangle$). Let's explain each word in the definition\n",
    "\n",
    "1. complex matrix: $\\rho\\in\\mathbb{C}^{d\\times d}$\n",
    "2. Hermitian: $\\rho_{ij}=\\rho_{ji}^*$\n",
    "3. semi-definite: for any nonzero complex vector $v$, $\\sum_{ij}v^*_i\\rho_{ij}v_j>0$\n",
    "    * equivalent: the minimum eigenvalues of $\\rho$ is non-negative\n",
    "    * usually denoted as $\\rho\\succeq 0$, the symbol $0$ denotes zero matrix of size $d\\times d$\n",
    "4. trace 1: $\\sum_i\\rho_{ii}=1$\n",
    "    * equivalent: summation of all eigenvalues gives one, $\\sum_i \\lambda_i(\\rho)=1$\n",
    "\n",
    "We can generate random density matrix in `numqi`"
   ]
  },
  {
   "cell_type": "code",
   "execution_count": null,
   "metadata": {},
   "outputs": [],
   "source": [
    "# d=4\n",
    "rho0 = np.array([[0.1,0,0,0], [0,0.2,0,0], [0,0,0.3,0], [0,0,0,0.4]])\n",
    "rho1 = numqi.state.Werner(d=2, alpha=1) #Bell state (density matrix)\n",
    "rho2 = numqi.random.rand_density_matrix(4)\n",
    "print(f'bell-state:\\n{rho1}')\n"
   ]
  },
  {
   "cell_type": "markdown",
   "metadata": {},
   "source": [
    "and evaluate its trace which should almost 1, and its eigenvalue which should be all non-negative"
   ]
  },
  {
   "cell_type": "code",
   "execution_count": null,
   "metadata": {},
   "outputs": [],
   "source": [
    "rho = numqi.random.rand_density_matrix(4)\n",
    "print(np.round(rho,3))\n",
    "print(f'{np.trace(rho)=}')\n",
    "print(f'{np.linalg.eigvalsh(rho)=}')\n",
    "print(f'{np.linalg.eigvalsh(rho).sum()=}')\n"
   ]
  },
  {
   "cell_type": "markdown",
   "metadata": {},
   "source": [
    "Connection between pure state and density matrix: when the density matrix $\\rho$ has only one non-zero eigenvalue (must be 1), let's denote the associated eigenvector $|\\psi\\rangle$, then we say the density matrix $\\rho$ and the pure state $|\\psi\\rangle$ are equivalent and have the following equation\n",
    "\n",
    "$$\\rho=|\\psi\\rangle\\langle\\psi|$$\n",
    "\n",
    "The matrix with only one nonzero eigenvalue is said of rank one."
   ]
  },
  {
   "cell_type": "markdown",
   "metadata": {},
   "source": [
    "Some special density matrix\n",
    "\n",
    "1. maximally mixed state $\\rho_0=I/d$\n",
    "2. Werner state [wiki/werner-state](https://en.wikipedia.org/wiki/Werner_state)\n",
    "3. Isotropic state [quantiki/isotropic-state](https://www.quantiki.org/wiki/isotropic-state)"
   ]
  },
  {
   "cell_type": "code",
   "execution_count": null,
   "metadata": {},
   "outputs": [],
   "source": [
    "rho0 = np.eye(4)/4\n",
    "rho_werner = numqi.state.Werner(d=2, alpha=1)\n",
    "rho_isotropic = numqi.state.Isotropic(d=2, alpha=1)\n",
    "print(f'{rho0=}')\n",
    "print(f'{rho_werner=}')\n",
    "print(f'{rho_isotropic=}')\n"
   ]
  },
  {
   "cell_type": "markdown",
   "metadata": {},
   "source": [
    "## Unitary matrix\n",
    "\n",
    "TODO"
   ]
  }
 ],
 "metadata": {
  "kernelspec": {
   "display_name": "Python 3",
   "language": "python",
   "name": "python3"
  },
  "language_info": {
   "codemirror_mode": {
    "name": "ipython",
    "version": 3
   },
   "file_extension": ".py",
   "mimetype": "text/x-python",
   "name": "python",
   "nbconvert_exporter": "python",
   "pygments_lexer": "ipython3",
   "version": "3.11.4"
  }
 },
 "nbformat": 4,
 "nbformat_minor": 2
}
