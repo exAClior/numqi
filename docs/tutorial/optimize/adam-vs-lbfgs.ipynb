{
 "cells": [
  {
   "cell_type": "markdown",
   "metadata": {},
   "source": [
    "# Adam versus L-BFGS-B\n",
    "\n",
    "Usually, L-BFGS-B is faster than Adam for analytical functions, so user should always try L-BFGS-B method first. However, there exists some function that Adam works much better than L-BFGS-B. Here, we summarize some (incomplete) such kind of functions.\n",
    "\n",
    "TODO\n",
    "\n",
    "1. k-ext boundary optimization (first order noncontinuous)\n",
    "2. degeneracy in eigenvalue (first order divergent)\n",
    "3. eigenvector (noncontiuous function)\n",
    "4. random behavior in function\n",
    "5. (bad-defined) nonzero (or even divergent) gradient at the minimum point: absolute function $|x|$, sqrt root function $\\sqrt{x}$, etc.\n",
    "6. TODO"
   ]
  }
 ],
 "metadata": {
  "language_info": {
   "name": "python"
  },
  "orig_nbformat": 4
 },
 "nbformat": 4,
 "nbformat_minor": 2
}
