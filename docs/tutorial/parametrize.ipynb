{
 "cells": [
  {
   "cell_type": "markdown",
   "metadata": {},
   "source": [
    "# Parametrization\n",
    "\n",
    "[arxiv-link](https://arxiv.org/abs/1909.09501) Trivializations for Gradient-Based Optimization on Manifolds\n",
    "\n",
    "A constrained optimization problem over some manifold $\\mathcal{M}$\n",
    "\n",
    "$$ \\min_{x\\in\\mathcal{M}} f(x) $$\n",
    "\n",
    "can be converted to an unconstrained optimization problem over the Eucleadian space\n",
    "\n",
    "$$ \\min_{y\\in\\mathbb{R}^n} f(\\phi(y)) $$\n",
    "\n",
    "where the surjective map $\\phi:\\mathbb{R}^n\\mapsto \\mathcal{M}$ is called a trivialization of the manifold $\\mathcal{M}$."
   ]
  },
  {
   "cell_type": "markdown",
   "metadata": {},
   "source": [
    "## manifold\n",
    "\n",
    "[cdopt-documentation/manifold](https://cdopt.github.io/md_files/overview.html)\n",
    "\n",
    "the field $\\mathbb{F}$ can be $\\mathbb{R}$ or $\\mathbb{C}$\n",
    "\n",
    "| name | definition |\n",
    "| :-: | :-: |\n",
    "| sphere | $\\{x\\in\\mathbb{F}^n:\\lVert x\\rVert_2=1\\}$ |\n",
    "| Stiefel manifold | $\\{x\\in\\mathbb{F}^{m\\times s}:x^\\dagger x=I_s\\}$ |"
   ]
  },
  {
   "cell_type": "markdown",
   "metadata": {},
   "source": [
    "## math notation\n",
    "\n",
    "1. $\\mathbb{R}$: real number\n",
    "2. $\\mathbb{R}_+$: real positive number\n",
    "3. $\\mathbb{R}^d$: $d$-dimensional real vector\n",
    "4. $x\\in\\mathbb{R}^d,x\\succ 0$: $x$ is a $d$-dimensional real vector and all elements are positive (generalized inequality)\n",
    "5. $x\\in\\mathbb{R}^{d},x\\succeq 0$: $x$ is a $d$-dimensional real vector and all elements are non-negative\n",
    "6. $\\mathbb{R}^{m\\times n}$: $m\\times n$ real matrix\n",
    "7. $\\mathbb{R}^{m\\times m},x\\succ 0$: $m\\times m$ real definite positive matrix (all eigenvalues are positive)\n",
    "8. $\\mathbb{R}^{m\\times m},x\\succeq 0$: $m\\times m$ real semi-definite positive matrix (all eigenvalues are non-negative)"
   ]
  },
  {
   "cell_type": "code",
   "execution_count": null,
   "metadata": {},
   "outputs": [],
   "source": []
  }
 ],
 "metadata": {
  "language_info": {
   "name": "python"
  },
  "orig_nbformat": 4
 },
 "nbformat": 4,
 "nbformat_minor": 2
}
