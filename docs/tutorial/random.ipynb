{
 "cells": [
  {
   "cell_type": "markdown",
   "metadata": {},
   "source": [
    "# random\n",
    "\n",
    "The submodule `numqi.random` is designed to generate various random distribution, like random Hermitian matrix, random state, random unitary matrix etc."
   ]
  },
  {
   "cell_type": "code",
   "execution_count": null,
   "metadata": {},
   "outputs": [],
   "source": [
    "import numpy as np\n",
    "import matplotlib.pyplot as plt\n",
    "\n",
    "import numqi\n",
    "\n",
    "np_rng = np.random.default_rng()\n"
   ]
  },
  {
   "cell_type": "markdown",
   "metadata": {},
   "source": [
    "## Dirichlet distribution\n",
    "\n",
    "[wiki/Dirichlet-distribution](https://en.wikipedia.org/wiki/Dirichlet_distribution)\n",
    "\n",
    "related paper \"Improving application performance with biased distributions of quantum states\" [doi-link](https://doi.org/10.1103%2Fphysrevresearch.3.043145)"
   ]
  },
  {
   "cell_type": "code",
   "execution_count": null,
   "metadata": {},
   "outputs": [],
   "source": [
    "alpha = np.array([0.3, 0.3, 0.3])\n",
    "N0 = 5000\n",
    "np0 = np_rng.dirichlet(alpha, size=N0)\n",
    "assert np.abs(np0.sum(axis=1)-1).max()<1e-7\n",
    "\n",
    "tmp0 = [0, np.pi*2/3, np.pi*4/3]\n",
    "tmp1 = np0 @ np.array([[np.cos(x),np.sin(x)] for x in tmp0])\n",
    "fig,ax = plt.subplots()\n",
    "ax.scatter(tmp1[:,0], tmp1[:,1], s=3, alpha=0.3)\n",
    "ax.set_xlim(-1, 1)\n",
    "ax.set_ylim(-1, 1)\n",
    "ax.set_aspect('equal')\n"
   ]
  }
 ],
 "metadata": {
  "kernelspec": {
   "display_name": "Python 3",
   "language": "python",
   "name": "python3"
  },
  "language_info": {
   "codemirror_mode": {
    "name": "ipython",
    "version": 3
   },
   "file_extension": ".py",
   "mimetype": "text/x-python",
   "name": "python",
   "nbconvert_exporter": "python",
   "pygments_lexer": "ipython3",
   "version": "3.11.6"
  }
 },
 "nbformat": 4,
 "nbformat_minor": 2
}
