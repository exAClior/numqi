{
 "cells": [
  {
   "cell_type": "code",
   "execution_count": null,
   "metadata": {},
   "outputs": [],
   "source": [
    "import time\n",
    "import numpy as np\n",
    "import numqi"
   ]
  },
  {
   "cell_type": "code",
   "execution_count": null,
   "metadata": {},
   "outputs": [],
   "source": [
    "plus_state = np.array([1,1])/np.sqrt(2)\n",
    "minus_state = np.array([1,-1])/np.sqrt(2)\n",
    "phi_0 = np.kron(np.array([1,0]), np.kron(np.array([1,0]), np.array([1,0])))\n",
    "phi_1 = np.kron(np.array([0,1]), np.kron(plus_state, minus_state))\n",
    "phi_2 = np.kron(minus_state, np.kron(np.array([0,1]), plus_state))\n",
    "phi_3 = np.kron(plus_state, np.kron(minus_state, np.array([0,1])))\n",
    "ces_upb = np.array([phi_0, phi_1, phi_2, phi_3])\n",
    "dim_list = [2,2,2]\n",
    "orth_space = numqi.matrix_space.get_vector_orthogonal_basis(ces_upb).reshape(-1,2,2,2)\n",
    "model = numqi.matrix_space.DetectCanonicalPolyadicRankModel((2, 2, 2), rank=1)\n",
    "model.set_target(orth_space)\n",
    "theta_optim = numqi.optimize.minimize(model, 'uniform', num_repeat=3, tol=1e-12)\n",
    "print(f'gradient descent:{theta_optim.fun}')\n",
    "print(f'PPT result:{numqi.matrix_space.get_geometric_measure_ppt(orth_space, dim_list)}')\n",
    "print(numqi.matrix_space.is_ABC_completely_entangled_subspace(\n",
    "    orth_space, hierarchy_k=1))\n",
    "print(numqi.matrix_space.is_ABC_completely_entangled_subspace(\n",
    "    orth_space, hierarchy_k=2))\n",
    "\n"
   ]
  },
  {
   "cell_type": "code",
   "execution_count": null,
   "metadata": {},
   "outputs": [],
   "source": [
    "dimA = 2\n",
    "dimB = 2\n",
    "dimC = 4\n",
    "np_list = numqi.matrix_space.get_completed_entangled_subspace((dimA, dimB, dimC), kind='quant-ph/0409032')[0]\n",
    "dim_list = [dimA, dimB, dimC]\n",
    "print(f'[{dimA}x{dimB}x{dimC}] detect rank=2')\n",
    "t0 = time.time()\n",
    "model = numqi.matrix_space.DetectCanonicalPolyadicRankModel((dimA, dimB, dimC), rank=2)\n",
    "model.set_target(np_list)\n",
    "theta_optim = numqi.optimize.minimize(model, 'uniform', num_repeat=3, tol=1e-12)\n",
    "print(f'elapsed time: {time.time()-t0:3f}s', '\\n')\n",
    "\n",
    "print(f'[{dimA}x{dimB}x{dimC}] detect rank=1')\n",
    "model = numqi.matrix_space.DetectCanonicalPolyadicRankModel((dimA, dimB, dimC), rank=1)\n",
    "model.set_target(np_list)\n",
    "theta_optim = numqi.optimize.minimize(model, 'uniform', num_repeat=3, tol=1e-12)\n",
    "print(f'elapsed time: {time.time()-t0:2f}s', '\\n')\n",
    "print(f'PPT numerical result:{numqi.matrix_space.get_geometric_measure_ppt(np_list, dim_list)}')"
   ]
  },
  {
   "cell_type": "code",
   "execution_count": null,
   "metadata": {},
   "outputs": [],
   "source": [
    "# Gradient descent method\n",
    "case_list = [(2,2,2), (2,2,4),(2,2,6),(2,3,4),(2,3,6),(2,3,8),(3,3,6),(3,3,8),(3,4,7),(4,5,10)]\n",
    "kwargs = dict(theta0='uniform', num_repeat=3, tol=1e-12, print_every_round=0)\n",
    "for dimA,dimB,dimC in case_list:\n",
    "    np_list = numqi.matrix_space.get_completed_entangled_subspace((dimA, dimB, dimC), kind='quant-ph/0409032')[0]\n",
    "    t0 = time.time()\n",
    "    model = numqi.matrix_space.DetectCanonicalPolyadicRankModel((dimA, dimB, dimC), rank=1)\n",
    "    model.set_target(np_list)\n",
    "    theta_optim1 = numqi.optimize.minimize(model, **kwargs)\n",
    "    tmp0 = time.time()-t0\n",
    "    print(f'[{dimA}x{dimB}x{dimC}][{tmp0:.2f}s], loss(r=1)= {theta_optim1.fun:.2e}')"
   ]
  },
  {
   "cell_type": "code",
   "execution_count": null,
   "metadata": {},
   "outputs": [],
   "source": [
    "# [2x2x2][0.07s], loss(r=1)= 2.50e-01\n",
    "# [2x2x4][0.08s], loss(r=1)= 4.50e-02\n",
    "# [2x2x6][0.10s], loss(r=1)= 1.23e-02\n",
    "# [2x3x4][0.08s], loss(r=1)= 1.41e-02\n",
    "# [2x3x6][0.15s], loss(r=1)= 2.86e-03\n",
    "# [2x3x8][0.21s], loss(r=1)= 7.62e-04\n",
    "# [3x3x6][0.18s], loss(r=1)= 7.20e-04\n",
    "# [3x3x8][0.32s], loss(r=1)= 1.57e-04\n",
    "# [3x4x7][0.40s], loss(r=1)= 7.98e-05\n",
    "# [4x5x10][2.92s], loss(r=1)= 3.54e-07"
   ]
  },
  {
   "cell_type": "code",
   "execution_count": null,
   "metadata": {},
   "outputs": [],
   "source": [
    "# PPT method\n",
    "case_list = [(2,2,2), (2,2,4),(2,2,6),(2,3,4),(2,3,6),(2,3,8),(3,3,6),(3,3,8),(3,4,7),(4,5,10)]\n",
    "for dimA,dimB,dimC in case_list:\n",
    "    np_list = numqi.matrix_space.get_completed_entangled_subspace((dimA, dimB, dimC), kind='quant-ph/0409032')[0]\n",
    "    t0 = time.time()\n",
    "    theta_optim1 = numqi.matrix_space.get_geometric_measure_ppt(np_list,[dimA,dimB,dimC])\n",
    "    tmp0 = time.time()-t0\n",
    "    print(f'[{dimA}x{dimB}x{dimC}][{tmp0:.3f}s], loss(r=1)= {theta_optim1:.2e}')"
   ]
  },
  {
   "cell_type": "code",
   "execution_count": null,
   "metadata": {},
   "outputs": [],
   "source": [
    "# [2x2x2][0.092s], loss(r=1)= 2.00e-01\n",
    "# [2x2x4][0.164s], loss(r=1)= 4.49e-02\n",
    "# [2x2x6][0.331s], loss(r=1)= 1.23e-02\n",
    "# [2x3x4][0.318s], loss(r=1)= 1.41e-02\n",
    "# [2x3x6][1.071s], loss(r=1)= 2.86e-03\n",
    "# [2x3x8][2.103s], loss(r=1)= 7.62e-04\n",
    "# [3x3x6][2.709s], loss(r=1)= 7.20e-04\n",
    "# [3x3x8][8.554s], loss(r=1)= 1.57e-04\n",
    "# [3x4x7][18.273s], loss(r=1)= 7.98e-05"
   ]
  },
  {
   "cell_type": "code",
   "execution_count": null,
   "metadata": {},
   "outputs": [],
   "source": [
    "case_list = [(2,2,2,2), (2,2,3,2), (2,2,4,2), (2,2,5,2), (2,2,6,2), (2,2,7,2),\n",
    "                (2,2,8,2), (2,2,9,2), (2,3,3,3), (2,3,4,3)]\n",
    "info_list = []\n",
    "for dimA,dimB,dimC,kmax in case_list:\n",
    "    np_list = numqi.matrix_space.get_completed_entangled_subspace((dimA, dimB, dimC), kind='quant-ph/0409032')[0]\n",
    "    for k in range(1, kmax+1):\n",
    "        t0 = time.time()\n",
    "        ret = numqi.matrix_space.is_ABC_completely_entangled_subspace(np_list, hierarchy_k=k)\n",
    "        info_list.append((dimA,dimB,dimC,k, ret, time.time()-t0))\n",
    "    print(f'[{dimA}x{dimB}x{dimC}] {info_list[-2][-2]}@(k={kmax-1}) {info_list[-1][-2]}@(k={kmax}) time(k={kmax})={info_list[-1][-1]:.2f}s')"
   ]
  },
  {
   "cell_type": "code",
   "execution_count": null,
   "metadata": {},
   "outputs": [],
   "source": [
    "# [2x2x2] False@(k=1) True@(k=2) time(k=2)=0.01s\n",
    "# [2x2x3] False@(k=1) True@(k=2) time(k=2)=0.07s\n",
    "# [2x2x4] False@(k=1) True@(k=2) time(k=2)=0.07s\n",
    "# [2x2x5] False@(k=1) True@(k=2) time(k=2)=0.14s\n",
    "# [2x2x6] False@(k=1) True@(k=2) time(k=2)=0.30s\n",
    "# [2x2x7] False@(k=1) True@(k=2) time(k=2)=0.80s\n",
    "# [2x2x8] False@(k=1) True@(k=2) time(k=2)=1.28s\n",
    "# [2x2x9] False@(k=1) True@(k=2) time(k=2)=2.91s\n",
    "# [2x3x3] False@(k=2) True@(k=3) time(k=3)=1.41s\n",
    "# [2x3x4] False@(k=2) True@(k=3) time(k=3)=180.42s"
   ]
  }
 ],
 "metadata": {
  "kernelspec": {
   "display_name": "Python 3",
   "language": "python",
   "name": "python3"
  },
  "language_info": {
   "codemirror_mode": {
    "name": "ipython",
    "version": 3
   },
   "file_extension": ".py",
   "mimetype": "text/x-python",
   "name": "python",
   "nbconvert_exporter": "python",
   "pygments_lexer": "ipython3",
   "version": "3.11.6"
  }
 },
 "nbformat": 4,
 "nbformat_minor": 2
}
