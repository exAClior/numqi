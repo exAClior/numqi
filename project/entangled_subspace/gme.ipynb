{
 "cells": [
  {
   "cell_type": "code",
   "execution_count": null,
   "metadata": {},
   "outputs": [],
   "source": [
    "import plotly.graph_objects as go\n",
    "from plotly.subplots import make_subplots\n",
    "import numpy as np\n",
    "import numqi\n",
    "from utils import *\n",
    "\n",
    "phi = np.linspace(0, np.pi, 20)\n",
    "theta = np.linspace(0, 2 * np.pi, 40)\n",
    "phi, theta = np.meshgrid(phi, theta)\n",
    "\n",
    "a = np.sin(phi) * np.cos(theta)\n",
    "b = np.sin(phi) * np.sin(theta)\n",
    "c = np.cos(phi)\n",
    "\n",
    "def gme_numerical(a, b, c):\n",
    "    model = numqi.matrix_space.DetectCanonicalPolyadicRankModel([2,2,2], rank=1)\n",
    "    kwargs = dict(theta0='uniform', tol=1e-14, num_repeat=3, print_every_round=0, early_stop_threshold=1e-14)\n",
    "    state = W_type_state(a, b, c)\n",
    "    model.set_target(state)\n",
    "    value = numqi.optimize.minimize(model, **kwargs).fun\n",
    "    return value\n",
    "\n",
    "W_type_state_gme_analytical = np.vectorize(W_type_state_gme)\n",
    "f_values_analytical = W_type_state_gme_analytical(a, b, c)\n",
    "\n",
    "W_type_state_gme_numerical = np.vectorize(gme_numerical)\n",
    "f_values_numerical = W_type_state_gme_numerical(a, b, c)\n",
    "\n",
    "error = np.abs(f_values_analytical - f_values_numerical)\n",
    "\n"
   ]
  },
  {
   "cell_type": "code",
   "execution_count": null,
   "metadata": {},
   "outputs": [],
   "source": [
    "print(np.max(error))"
   ]
  },
  {
   "cell_type": "code",
   "execution_count": null,
   "metadata": {},
   "outputs": [],
   "source": [
    "import plotly.express as px\n",
    "fig = make_subplots(rows=1, cols=2,\n",
    "                    subplot_titles=(\"Analytical result\", \"Absolute error\"),\n",
    "                    specs=[[{'type': 'surface'}, {'type': 'surface'}]])\n",
    "\n",
    "fig.add_trace(go.Surface(\n",
    "    x=a, \n",
    "    y=b, \n",
    "    z=c, \n",
    "    surfacecolor=f_values_analytical, \n",
    "    colorscale='balance',\n",
    "    colorbar=dict(x=0.45, xpad=0),  \n",
    "    showscale=True,  \n",
    "    name='analytical_result'), \n",
    "    row=1, \n",
    "    col=1\n",
    ")\n",
    "\n",
    "fig.add_trace(go.Surface(\n",
    "    x=a, \n",
    "    y=b, \n",
    "    z=c, \n",
    "    surfacecolor=error, \n",
    "    colorscale='Viridis',\n",
    "    colorbar=dict(x=1, xpad=0),\n",
    "    showscale=True,  \n",
    "    name='absolute_error'), \n",
    "    row=1, \n",
    "    col=2\n",
    ")\n",
    "\n",
    "fig.update_scenes(\n",
    "    xaxis=dict(title_text=\"a\", tickfont=dict(size=10)),\n",
    "    yaxis=dict(title_text=\"b\", tickfont=dict(size=10)),\n",
    "    zaxis=dict(title_text=\"c\", tickfont=dict(size=10), range=[-0.95, 1]),\n",
    "    camera_eye=dict(x=1.5, y=1.5, z=1.5)\n",
    ")\n",
    "\n",
    "fig.update_layout(\n",
    "    autosize=False,\n",
    "    width=900,\n",
    "    height=500,\n",
    "    margin=dict(\n",
    "        l=50,  # left margin\n",
    "        r=50,  # right margin\n",
    "        b=100,  # bottom margin\n",
    "        t=100,  # top margin\n",
    "        pad=10  # padding\n",
    "    )\n",
    ")\n",
    "\n",
    "fig.show()"
   ]
  },
  {
   "cell_type": "code",
   "execution_count": null,
   "metadata": {},
   "outputs": [],
   "source": []
  }
 ],
 "metadata": {
  "kernelspec": {
   "display_name": "Python 3",
   "language": "python",
   "name": "python3"
  },
  "language_info": {
   "codemirror_mode": {
    "name": "ipython",
    "version": 3
   },
   "file_extension": ".py",
   "mimetype": "text/x-python",
   "name": "python",
   "nbconvert_exporter": "python",
   "pygments_lexer": "ipython3",
   "version": "3.11.6"
  }
 },
 "nbformat": 4,
 "nbformat_minor": 2
}
