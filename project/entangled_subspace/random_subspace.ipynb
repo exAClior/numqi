{
 "cells": [
  {
   "cell_type": "code",
   "execution_count": null,
   "metadata": {},
   "outputs": [],
   "source": [
    "import numpy as np\n",
    "import numqi\n",
    "from tqdm import tqdm\n",
    "import time\n",
    "from utils import *"
   ]
  },
  {
   "cell_type": "code",
   "execution_count": null,
   "metadata": {},
   "outputs": [],
   "source": [
    "dimA = 3\n",
    "dimB = 3\n",
    "r = 1\n",
    "d_S = 4\n",
    "N = 1\n",
    "kmax = (max(r,2)+1)**(dimA*dimB)-r\n",
    "ret0 = []\n",
    "ret1 = []\n",
    "ret2 = []\n",
    "threshold = 1e-6\n",
    "fail_count_gm = 0\n",
    "fail_count_ppt = 0\n",
    "kwargs = dict(theta0='uniform', num_repeat=3, tol=1e-12, print_every_round=0)\n",
    "for _ in tqdm(range(N)):\n",
    "    matrix_subspace = np.array([numqi.random.rand_haar_state(dimA*dimB) for _ in range(d_S)]).reshape(-1, dimA, dimB)\n",
    "    basis,basis_orth,space_char = numqi.matrix_space.get_matrix_orthogonal_basis(matrix_subspace, field='complex')\n",
    "    \n",
    "    t0 = time.time()\n",
    "    for k in range(1,kmax+1):\n",
    "        result = numqi.matrix_space.has_rank_hierarchical_method(matrix_subspace, r+1, k)\n",
    "        if result:\n",
    "            break\n",
    "    ret0.append(time.time()-t0)\n",
    "    \n",
    "    t1 = time.time()\n",
    "    model = numqi.matrix_space.DetectRankModel(basis_orth, space_char, rank=r)\n",
    "    theta_optim = numqi.optimize.minimize(model,**kwargs)\n",
    "    ret1.append(time.time()-t1)\n",
    "    \n",
    "    if (theta_optim.fun > threshold) != result:\n",
    "        fail_count_gm += 1\n",
    "    \n",
    "    t2 = time.time()\n",
    "    result_ppt = PPT_GM(basis_orth)\n",
    "    ret2.append(time.time()-t2)\n",
    "    \n",
    "    if (result_ppt > threshold) != result:\n",
    "        fail_count_ppt += 1\n",
    "        \n",
    "\n",
    "print(f'{num_state}-dimensional {dimA}x{dimB} subspace')\n",
    "print('Hierarchical method:', np.mean(ret0), 's')\n",
    "print('DetectRankModel:', np.mean(ret1), 's')\n",
    "print('PPT_GM:', np.mean(ret2), 's')\n",
    "print(f'fail_count_gm: {fail_count_gm}')\n",
    "print(f'fail_count_ppt: {fail_count_ppt}')\n",
    "\n",
    "    \n",
    "\n"
   ]
  },
  {
   "cell_type": "code",
   "execution_count": null,
   "metadata": {},
   "outputs": [],
   "source": []
  }
 ],
 "metadata": {
  "kernelspec": {
   "display_name": "Python 3",
   "language": "python",
   "name": "python3"
  },
  "language_info": {
   "codemirror_mode": {
    "name": "ipython",
    "version": 3
   },
   "file_extension": ".py",
   "mimetype": "text/x-python",
   "name": "python",
   "nbconvert_exporter": "python",
   "pygments_lexer": "ipython3",
   "version": "3.11.6"
  }
 },
 "nbformat": 4,
 "nbformat_minor": 2
}
