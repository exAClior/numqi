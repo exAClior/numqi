{
 "cells": [
  {
   "cell_type": "code",
   "execution_count": null,
   "metadata": {},
   "outputs": [],
   "source": [
    "import numqi\n",
    "import numpy as np\n",
    "from utils import *\n",
    "\n",
    "colors = ['#006BA4', '#FF800E', '#ABABAB', '#595959', '#5F9ED1', '#C85200', '#898989', '#A2C8EC', '#FFBC79', '#CFCFCF']"
   ]
  },
  {
   "cell_type": "code",
   "execution_count": null,
   "metadata": {},
   "outputs": [],
   "source": [
    "# show color palette\n",
    "import matplotlib.pyplot as plt\n",
    "plt.figure(figsize=(10, 1))\n",
    "for i, c in enumerate(colors):\n",
    "    plt.bar(i, 1, color=c)\n",
    "plt.show()"
   ]
  },
  {
   "cell_type": "code",
   "execution_count": null,
   "metadata": {},
   "outputs": [],
   "source": [
    "d = 3\n",
    "theta = np.pi/4\n",
    "vec_list = get_bipartite_ces(d, theta)\n",
    "matrix_subspace = vec_list.reshape(-1,2,d)\n",
    "print(vec_list.shape)\n",
    "print(matrix_subspace.shape)\n",
    "model = numqi.matrix_space.DetectCanonicalPolyadicRankModel((2,d), rank=1)\n",
    "model.set_target(matrix_subspace)\n",
    "kwargs = dict(theta0='uniform', num_repeat=3, tol=1e-12, print_every_round=0)\n",
    "theta_optim = numqi.optimize.minimize(model,**kwargs)\n",
    "print(f'numerical result = {theta_optim.fun}')\n",
    "print(f'lower bound given by PPT = {PPT_GM(matrix_subspace)}')"
   ]
  },
  {
   "cell_type": "code",
   "execution_count": null,
   "metadata": {},
   "outputs": [],
   "source": [
    "# draw a figure for d=3,4,5,6,7\n",
    "import matplotlib.pyplot as plt\n",
    "\n",
    "theta_list = np.linspace(0, np.pi, 20)\n",
    "kwargs = dict(theta0='uniform', num_repeat=3, tol=1e-12, print_every_round=0)\n",
    "plt.subplots()\n",
    "for i, d in enumerate(range(3, 8)):\n",
    "    GM_numerical_list = []\n",
    "    GM_PPT =[]\n",
    "    GM_analytical_list = [analytical_GM(d, theta) for theta in theta_list]\n",
    "    for theta in theta_list:\n",
    "        vec_list = get_bipartite_ces(d, theta, random_basis=True)\n",
    "        matrix_subspace = vec_list.reshape(-1,2,d)\n",
    "        model = numqi.matrix_space.DetectCanonicalPolyadicRankModel((2,d), rank=1)\n",
    "        model.set_target(matrix_subspace)\n",
    "        theta_optim = numqi.optimize.minimize(model,**kwargs)\n",
    "        GM_numerical_list.append(theta_optim.fun)\n",
    "        GM_PPT.append(PPT_GM(matrix_subspace))\n",
    "    color = colors[i % len(colors)]\n",
    "    plt.plot(theta_list, GM_analytical_list, '-', label=f'd={d}', color=color)\n",
    "    plt.plot(theta_list, GM_numerical_list, 'o', markersize=6, markerfacecolor='none', markeredgecolor=color)\n",
    "    plt.plot(theta_list, GM_PPT, 'x', markersize=6, color=color)\n",
    "plt.xlabel(r'$\\theta$')\n",
    "plt.ylabel(r'$E_2(\\mathcal{S}_{2\\times d}^{\\theta}$)')\n",
    "plt.legend()\n",
    "plt.savefig('analytic_gm.pdf', bbox_inches='tight')\n",
    "    "
   ]
  },
  {
   "cell_type": "code",
   "execution_count": null,
   "metadata": {},
   "outputs": [],
   "source": []
  }
 ],
 "metadata": {
  "kernelspec": {
   "display_name": "Python 3",
   "language": "python",
   "name": "python3"
  },
  "language_info": {
   "codemirror_mode": {
    "name": "ipython",
    "version": 3
   },
   "file_extension": ".py",
   "mimetype": "text/x-python",
   "name": "python",
   "nbconvert_exporter": "python",
   "pygments_lexer": "ipython3",
   "version": "3.11.6"
  }
 },
 "nbformat": 4,
 "nbformat_minor": 2
}
