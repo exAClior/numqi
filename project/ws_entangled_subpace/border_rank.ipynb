{
 "cells": [
  {
   "cell_type": "code",
   "execution_count": null,
   "metadata": {},
   "outputs": [],
   "source": [
    "import numpy as np\n",
    "import numqi\n",
    "import torch\n",
    "from utils import *\n",
    "from tqdm import tqdm"
   ]
  },
  {
   "cell_type": "code",
   "execution_count": null,
   "metadata": {},
   "outputs": [],
   "source": [
    "# W state\n",
    "n = 5\n",
    "W_state = n_qubit_W(n)\n",
    "model = numqi.matrix_space.DetectCanonicalPolyadicRankModel([2]*n, 2)\n",
    "model.set_target(W_state)\n",
    "kwargs = dict(theta0='uniform', tol=1e-14, num_repeat=3, print_every_round=1, early_stop_threshold=1e-14)\n",
    "theta_optim = numqi.optimize.minimize(model, **kwargs)\n",
    "print(theta_optim.fun)"
   ]
  },
  {
   "cell_type": "code",
   "execution_count": null,
   "metadata": {},
   "outputs": [],
   "source": [
    "# Dicke state\n",
    "n = 7\n",
    "k = 2\n",
    "dicke_state = numqi.dicke.get_dicke_basis(n, 2)[k].reshape([2]*n)\n",
    "model = numqi.matrix_space.DetectCanonicalPolyadicRankModel([2]*n, 1)\n",
    "model.set_target(dicke_state)\n",
    "kwargs = dict(theta0='uniform', tol=1e-14, num_repeat=3, print_every_round=1, early_stop_threshold=1e-14)\n",
    "theta_optim = numqi.optimize.minimize(model, **kwargs)\n",
    "print(f'numerical result: {theta_optim.fun}')\n",
    "print(f'analytical result: {dicke_gm(n, k)}')\n",
    "# abs error\n",
    "print(f'abs error: {np.abs(theta_optim.fun - dicke_gm(n, k))}')"
   ]
  },
  {
   "cell_type": "code",
   "execution_count": null,
   "metadata": {},
   "outputs": [],
   "source": [
    "# Detecting border rank of dicke state\n",
    "n = 5\n",
    "k = 2\n",
    "dicke_state = numqi.dicke.get_dicke_basis(n, 2)[k].reshape([2]*n)\n",
    "kwargs = dict(theta0='uniform', tol=1e-14, num_repeat=3, print_every_round=0, early_stop_threshold=1e-14)\n",
    "for i in range(1, k+3):\n",
    "    model = numqi.matrix_space.DetectCanonicalPolyadicRankModel([2]*n, i)\n",
    "    model.set_target(dicke_state)\n",
    "    theta_optim = numqi.optimize.minimize(model, **kwargs)\n",
    "    print(f'numerical result for E_{i+1}: {theta_optim.fun}')\n"
   ]
  },
  {
   "cell_type": "code",
   "execution_count": null,
   "metadata": {},
   "outputs": [],
   "source": [
    "import matplotlib.pyplot as plt\n",
    "plt.subplots()\n",
    "kwargs = dict(theta0='uniform', tol=1e-14, num_repeat=3, print_every_round=0, early_stop_threshold=1e-14)\n",
    "n = 5\n",
    "k = 2\n",
    "r_list = np.arange(2, n//2 + 2)\n",
    "ret = []\n",
    "dicke_state = numqi.dicke.get_dicke_basis(n, 2)[k].reshape([2]*n)\n",
    "for r in r_list:\n",
    "    model = numqi.matrix_space.DetectCanonicalPolyadicRankModel([2]*n, r-1)\n",
    "    model.set_target(dicke_state)\n",
    "    theta_optim = numqi.optimize.minimize(model, **kwargs)\n",
    "    ret.append(theta_optim.fun)\n",
    "plt.plot(r_list, ret, '-')\n",
    "plt.xlabel('r')\n",
    "plt.ylabel(r'$E_r(|D_n^k \\rangle)$')"
   ]
  },
  {
   "cell_type": "code",
   "execution_count": null,
   "metadata": {},
   "outputs": [],
   "source": [
    "import numpy as np\n",
    "import numqi\n",
    "import pickle\n",
    "from tqdm import tqdm\n",
    "\n",
    "kwargs = dict(theta0='uniform', tol=1e-14, num_repeat=3, print_every_round=0, early_stop_threshold=1e-14)\n",
    "ret = []\n",
    "N = 7\n",
    "dataset = []\n",
    "\n",
    "for n in tqdm(np.arange(2, N)):\n",
    "    for k in np.arange(1, n//2+1):\n",
    "        r_list = np.arange(2, k+3)\n",
    "        ret = []\n",
    "        dicke_state = numqi.dicke.get_dicke_basis(n, 2)[k].reshape([2]*n)\n",
    "        for r in r_list:\n",
    "            model = numqi.matrix_space.DetectCanonicalPolyadicRankModel([2]*n, r-1)\n",
    "            model.set_target(dicke_state)\n",
    "            theta_optim = numqi.optimize.minimize(model, **kwargs)\n",
    "            ret.append(theta_optim.fun)\n",
    "        dataset.append({'n': n, 'k': k, 'r_list': r_list, 'ret1': ret})\n",
    "\n",
    "# Save the data to a pickle file\n",
    "with open('border_rank.pkl', 'wb') as f:\n",
    "    pickle.dump(dataset, f)"
   ]
  },
  {
   "cell_type": "code",
   "execution_count": null,
   "metadata": {},
   "outputs": [],
   "source": [
    "import matplotlib.pyplot as plt\n",
    "import pickle\n",
    "\n",
    "colors = ['#006BA4', '#FF800E', '#595959']\n",
    "alpha = np.linspace(0.4, 1, N-2)\n",
    "\n",
    "# Load the data from the pickle file\n",
    "with open('border_rank.pkl', 'rb') as f:\n",
    "    dataset = pickle.load(f)\n",
    "\n",
    "# Create the subplot\n",
    "plt.subplots()\n",
    "\n",
    "# Plot the data\n",
    "for data in dataset:\n",
    "    n = data['n']\n",
    "    k = data['k']\n",
    "    r_list = data['r_list']\n",
    "    ret1 = data['ret1']\n",
    "    plt.plot(r_list, ret1, '-o', markersize=4, color=colors[k-1], alpha = alpha[n-2], label=f'n={n}, k={k}', linewidth=1)\n",
    "\n",
    "plt.ylim([-0.03, 0.72])\n",
    "plt.xticks(np.arange(2, 6))\n",
    "plt.xlabel('r')\n",
    "plt.ylabel(r'$E_r(|D_n^k \\rangle)$')\n",
    "plt.legend()\n",
    "\n",
    "# Save the figure\n",
    "plt.savefig('border_rank.pdf')"
   ]
  },
  {
   "cell_type": "code",
   "execution_count": null,
   "metadata": {},
   "outputs": [],
   "source": []
  }
 ],
 "metadata": {
  "kernelspec": {
   "display_name": "Python 3",
   "language": "python",
   "name": "python3"
  },
  "language_info": {
   "codemirror_mode": {
    "name": "ipython",
    "version": 3
   },
   "file_extension": ".py",
   "mimetype": "text/x-python",
   "name": "python",
   "nbconvert_exporter": "python",
   "pygments_lexer": "ipython3",
   "version": "3.11.6"
  }
 },
 "nbformat": 4,
 "nbformat_minor": 2
}
