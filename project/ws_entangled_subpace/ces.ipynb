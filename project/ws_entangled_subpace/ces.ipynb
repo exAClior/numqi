{
 "cells": [
  {
   "cell_type": "code",
   "execution_count": null,
   "metadata": {},
   "outputs": [],
   "source": [
    "import time\n",
    "import numpy as np\n",
    "import numqi"
   ]
  },
  {
   "cell_type": "code",
   "execution_count": null,
   "metadata": {},
   "outputs": [],
   "source": [
    "# Completely entangled subspaces from quant-ph/0409032\n",
    "dimA = 3\n",
    "dimB = 3\n",
    "dimC = 3\n",
    "np_list = numqi.matrix_space.get_completed_entangled_subspace((dimA, dimB, dimC), kind='quant-ph/0409032')[0]\n",
    "print(np_list.shape)"
   ]
  },
  {
   "cell_type": "code",
   "execution_count": null,
   "metadata": {},
   "outputs": [],
   "source": [
    "basis_orth = numqi.matrix_space.get_vector_orthogonal_basis(np_list.reshape(np_list.shape[0], -1)).reshape(-1, dimA,dimB,dimC)\n",
    "print(basis_orth.shape)"
   ]
  },
  {
   "cell_type": "code",
   "execution_count": null,
   "metadata": {},
   "outputs": [],
   "source": [
    "print(f'[{dimA}x{dimB}x{dimC}] detect rank=2')\n",
    "t0 = time.time()\n",
    "model = numqi.matrix_space.DetectCPRankModel(basis_orth, rank=2)\n",
    "theta_optim = numqi.optimize.minimize(model, 'uniform', num_repeat=3, tol=1e-12)\n",
    "print(f'elapsed time: {time.time()-t0:3f}s', '\\n')\n",
    "\n",
    "print(f'[{dimA}x{dimB}x{dimC}] detect rank=1')\n",
    "model = numqi.matrix_space.DetectCPRankModel(basis_orth, rank=1)\n",
    "theta_optim = numqi.optimize.minimize(model, 'uniform', num_repeat=3, tol=1e-12)\n",
    "print(f'elapsed time: {time.time()-t0:3f}s', '\\n')"
   ]
  },
  {
   "cell_type": "code",
   "execution_count": null,
   "metadata": {},
   "outputs": [],
   "source": [
    "case_list = [(2,2,2), (2,2,3), (2,2,4), (2,2,5), (2,2,6), (2,2,7),\n",
    "                (2,2,8), (2,2,9), (2,3,3), (2,3,4), (2,3,5), (3,3,3)]\n",
    "kwargs = dict(theta0='uniform', num_repeat=3, tol=1e-12, print_every_round=0)\n",
    "for dimA,dimB,dimC in case_list:\n",
    "    np_list = numqi.matrix_space.get_completed_entangled_subspace((dimA, dimB, dimC), kind='quant-ph/0409032')[0]\n",
    "    t0 = time.time()\n",
    "    basis_orth = numqi.matrix_space.get_vector_orthogonal_basis(np_list.reshape(np_list.shape[0], -1)).reshape(-1, dimA,dimB,dimC)\n",
    "    model = numqi.matrix_space.DetectCPRankModel(basis_orth, rank=2)\n",
    "    theta_optim2 = numqi.optimize.minimize(model, **kwargs)\n",
    "    model = numqi.matrix_space.DetectCPRankModel(basis_orth, rank=1)\n",
    "    theta_optim1 = numqi.optimize.minimize(model, **kwargs)\n",
    "    tmp0 = time.time()-t0\n",
    "    print(f'[{dimA}x{dimB}x{dimC}][{tmp0:.3f}s] loss(r=2)= {theta_optim2.fun:.4e}, loss(r=1)= {theta_optim1.fun:.4e}')"
   ]
  },
  {
   "cell_type": "code",
   "execution_count": null,
   "metadata": {},
   "outputs": [],
   "source": [
    "# [2x2x2][0.093s] loss(r=2)= 6.3469e-14, loss(r=1)= 2.5000e-01\n",
    "# [2x2x3][0.102s] loss(r=2)= 4.1174e-14, loss(r=1)= 9.9242e-02\n",
    "# [2x2x4][0.156s] loss(r=2)= 8.0937e-14, loss(r=1)= 4.5039e-02\n",
    "# [2x2x5][0.132s] loss(r=2)= 2.1043e-14, loss(r=1)= 2.2597e-02\n",
    "# [2x2x6][0.122s] loss(r=2)= 4.1785e-13, loss(r=1)= 1.2303e-02\n",
    "# [2x2x7][0.166s] loss(r=2)= 1.4514e-13, loss(r=1)= 7.1707e-03\n",
    "# [2x2x8][0.154s] loss(r=2)= 2.0335e-13, loss(r=1)= 4.4234e-03\n",
    "# [2x2x9][0.235s] loss(r=2)= 5.1624e-13, loss(r=1)= 2.8611e-03\n",
    "# [2x3x3][0.125s] loss(r=2)= 4.5135e-14, loss(r=1)= 3.5569e-02\n",
    "# [2x3x4][0.144s] loss(r=2)= 1.5970e-13, loss(r=1)= 1.4135e-02\n",
    "# [2x3x5][0.152s] loss(r=2)= 1.8646e-13, loss(r=1)= 6.1101e-03\n",
    "# [3x3x3][0.176s] loss(r=2)= 4.8485e-13, loss(r=1)= 1.1905e-02"
   ]
  },
  {
   "cell_type": "code",
   "execution_count": null,
   "metadata": {},
   "outputs": [],
   "source": [
    "case_list = [(2,2,2,2), (2,2,3,2), (2,2,4,2), (2,2,5,2), (2,2,6,2), (2,2,7,2),\n",
    "                (2,2,8,2), (2,2,9,2), (2,3,3,3), (2,3,4,3), (2,3,5,3)]\n",
    "info_list = []\n",
    "for dimA,dimB,dimC,kmax in case_list:\n",
    "    np_list = numqi.matrix_space.get_completed_entangled_subspace((dimA, dimB, dimC), kind='quant-ph/0409032')[0]\n",
    "    for k in [kmax-1,kmax]:\n",
    "        t0 = time.time()\n",
    "        ret = numqi.matrix_space.is_ABC_completely_entangled_subspace(np_list, hierarchy_k=k)\n",
    "        info_list.append((dimA,dimB,dimC,k, ret, time.time()-t0))\n",
    "    print(f'[{dimA}x{dimB}x{dimC}] {info_list[-2][-2]}@(k={kmax-1}) {info_list[-1][-2]}@(k={kmax}) time(k={kmax})={info_list[-1][-1]:.2f}s')"
   ]
  },
  {
   "cell_type": "code",
   "execution_count": null,
   "metadata": {},
   "outputs": [],
   "source": [
    "# [2x2x2] False@(k=1) True@(k=2) time(k=2)=0.02s\n",
    "# [2x2x3] False@(k=1) True@(k=2) time(k=2)=0.04s\n",
    "# [2x2x4] False@(k=1) True@(k=2) time(k=2)=0.08s\n",
    "# [2x2x5] False@(k=1) True@(k=2) time(k=2)=0.15s\n",
    "# [2x2x6] False@(k=1) True@(k=2) time(k=2)=0.28s\n",
    "# [2x2x7] False@(k=1) True@(k=2) time(k=2)=0.62s\n",
    "# [2x2x8] False@(k=1) True@(k=2) time(k=2)=1.28s\n",
    "# [2x2x9] False@(k=1) True@(k=2) time(k=2)=2.60s\n",
    "# [2x3x3] False@(k=2) True@(k=3) time(k=3)=1.20s\n",
    "# [2x3x4] False@(k=2) True@(k=3) time(k=3)=126.15s"
   ]
  }
 ],
 "metadata": {
  "kernelspec": {
   "display_name": "Python 3",
   "language": "python",
   "name": "python3"
  },
  "language_info": {
   "codemirror_mode": {
    "name": "ipython",
    "version": 3
   },
   "file_extension": ".py",
   "mimetype": "text/x-python",
   "name": "python",
   "nbconvert_exporter": "python",
   "pygments_lexer": "ipython3",
   "version": "3.11.6"
  }
 },
 "nbformat": 4,
 "nbformat_minor": 2
}
