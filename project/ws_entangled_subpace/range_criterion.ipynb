{
 "cells": [
  {
   "cell_type": "code",
   "execution_count": null,
   "metadata": {},
   "outputs": [],
   "source": [
    "import numpy as np\n",
    "import numqi\n",
    "from utils import *"
   ]
  },
  {
   "cell_type": "code",
   "execution_count": null,
   "metadata": {},
   "outputs": [],
   "source": [
    "rho_bes = numqi.entangle.load_upb('tiles', return_bes=True)[1]\n",
    "rho_bes.shape"
   ]
  },
  {
   "cell_type": "code",
   "execution_count": null,
   "metadata": {},
   "outputs": [],
   "source": [
    "EVL,EVC = np.linalg.eigh(rho_bes)\n",
    "print(EVL)\n",
    "mask = EVL>1e-4\n",
    "EVL = EVL[mask]\n",
    "EVC = EVC[:,mask]\n",
    "print(EVL.shape)"
   ]
  },
  {
   "cell_type": "code",
   "execution_count": null,
   "metadata": {},
   "outputs": [],
   "source": [
    "dimA = 3\n",
    "dimB = 3\n",
    "matrix_subspace = EVC.reshape(dimA,dimB,EVC.shape[1]).transpose(2,0,1)\n",
    "print(matrix_subspace.shape)\n",
    "print(numqi.matrix_space.has_rank_hierarchical_method(matrix_subspace, rank=2, hierarchy_k=1))\n",
    "print(numqi.matrix_space.has_rank_hierarchical_method(matrix_subspace, rank=2, hierarchy_k=2))\n",
    "model = numqi.matrix_space.DetectCanonicalPolyadicRankModel((dimA, dimB), rank=1)\n",
    "model.set_target(matrix_subspace)\n",
    "kwargs = dict(theta0='uniform', num_repeat=3, tol=1e-12, print_every_round=0)\n",
    "theta_optim = numqi.optimize.minimize(model,**kwargs)\n",
    "print(f'numerical result = {theta_optim.fun}')\n",
    "print(f'lower bound given by PPT = {PPT_GM(matrix_subspace)}')\n"
   ]
  },
  {
   "cell_type": "code",
   "execution_count": null,
   "metadata": {},
   "outputs": [],
   "source": [
    "dimA = 4\n",
    "dimB = 4\n",
    "tmp0 = [\n",
    "    [(0,0,1), (1,1,1), (2,2,1), (3,3,1)],\n",
    "    [(0,1,1), (1,2,1), (2,3,1), (3,0,1)],\n",
    "    [(0,2,1), (1,3,1), (2,0,1), (3,1,-1)],\n",
    "]\n",
    "matrix_subspace = np.stack([numqi.matrix_space.build_matrix_with_index_value(dimA, dimB, x) for x in tmp0])\n",
    "print(matrix_subspace.shape)\n",
    "print(numqi.matrix_space.has_rank_hierarchical_method(matrix_subspace, rank=2, hierarchy_k=1))\n",
    "print(numqi.matrix_space.has_rank_hierarchical_method(matrix_subspace, rank=3, hierarchy_k=1))\n",
    "print(numqi.matrix_space.has_rank_hierarchical_method(matrix_subspace, rank=4, hierarchy_k=1))\n",
    "print(f'lower bound given by PPT = {PPT_GM(matrix_subspace)}')\n",
    "\n",
    "model = numqi.matrix_space.DetectCanonicalPolyadicRankModel((dimA, dimB), rank=1)\n",
    "model.set_target(matrix_subspace)\n",
    "kwargs = dict(theta0='uniform', num_repeat=3, tol=1e-12, print_every_round=0)\n",
    "theta_optim = numqi.optimize.minimize(model,**kwargs)\n",
    "print(f'numerical result = {theta_optim.fun}')"
   ]
  },
  {
   "cell_type": "code",
   "execution_count": null,
   "metadata": {},
   "outputs": [],
   "source": []
  }
 ],
 "metadata": {
  "kernelspec": {
   "display_name": "Python 3",
   "language": "python",
   "name": "python3"
  },
  "language_info": {
   "codemirror_mode": {
    "name": "ipython",
    "version": 3
   },
   "file_extension": ".py",
   "mimetype": "text/x-python",
   "name": "python",
   "nbconvert_exporter": "python",
   "pygments_lexer": "ipython3",
   "version": "3.11.6"
  }
 },
 "nbformat": 4,
 "nbformat_minor": 2
}
