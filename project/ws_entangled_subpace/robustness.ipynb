{
 "cells": [
  {
   "cell_type": "code",
   "execution_count": null,
   "metadata": {},
   "outputs": [],
   "source": [
    "import numpy as np\n",
    "from tqdm.auto import tqdm\n",
    "import matplotlib.pyplot as plt\n",
    "import numqi\n",
    "import scipy.linalg\n",
    "from utils import *"
   ]
  },
  {
   "cell_type": "code",
   "execution_count": null,
   "metadata": {},
   "outputs": [],
   "source": [
    "H = random_hermitian(4, 0.5)\n",
    "eigvals = np.linalg.eigvalsh(H)\n",
    "print(H)\n",
    "tr_norm = np.sum(np.abs(eigvals))\n",
    "print(\"Trace norm of H: \", tr_norm)"
   ]
  },
  {
   "cell_type": "code",
   "execution_count": null,
   "metadata": {},
   "outputs": [],
   "source": [
    "d = 3\n",
    "theta = np.pi/2\n",
    "vec_list = get_bipartite_ces(d, theta)\n",
    "matrix_subspace = vec_list.reshape(-1, 2, d)\n",
    "basis_orth = numqi.matrix_space.get_vector_orthogonal_basis(vec_list).reshape(-1, 2, d)\n",
    "model = numqi.matrix_space.DetectCanonicalPolyadicRankModel((2,d),rank=1)\n",
    "model.set_target(matrix_subspace)\n",
    "kwargs = dict(theta0='uniform', num_repeat=3, tol=1e-12, print_every_round=0)\n",
    "theta_optim = numqi.optimize.minimize(model,**kwargs)\n",
    "print(theta_optim.fun)"
   ]
  },
  {
   "cell_type": "code",
   "execution_count": null,
   "metadata": {},
   "outputs": [],
   "source": [
    "d = 3\n",
    "theta = np.pi/4\n",
    "print('Analytical GM:', analytical_GM(d, theta))\n",
    "trace_norm_bound = np.sqrt(analytical_GM(d, theta))\n",
    "\n",
    "print(\"Analytical trace norm bound: \", trace_norm_bound)"
   ]
  },
  {
   "cell_type": "code",
   "execution_count": null,
   "metadata": {},
   "outputs": [],
   "source": [
    "kwargs = dict(theta0='uniform', num_repeat=3, tol=1e-12, print_every_round=0)\n",
    "trace_norm_list = np.linspace(0.1, 5, 20)\n",
    "N = 300\n",
    "\n",
    "d = 3\n",
    "theta0 = np.pi/2\n",
    "vec_list = get_bipartite_ces(d, theta0)\n",
    "min_gm_list_0 = []\n",
    "for trace_norm in tqdm(trace_norm_list):\n",
    "    # randomly generate hermitian matrices with chosen trace norm\n",
    "    pertubation_list = [scipy.linalg.expm(-1j*random_hermitian(2*d, trace_norm)) for _ in range(N)]\n",
    "    z0 = []\n",
    "    for U in pertubation_list:\n",
    "        pertubated_vec_list = np.array([U@vec[:,np.newaxis].reshape(2*d) for vec in vec_list])\n",
    "        pertubated_matrix_subspace = pertubated_vec_list.reshape(-1, 2, d)\n",
    "        model = numqi.matrix_space.DetectCanonicalPolyadicRankModel((2,d),rank=1)\n",
    "        model.set_target(pertubated_matrix_subspace)\n",
    "        theta_optim = numqi.optimize.minimize(model,**kwargs)\n",
    "        z0.append(theta_optim.fun)\n",
    "    # minimum value in z0\n",
    "    min_gm_list_0.append(np.min(z0))\n",
    "\n",
    "theta1 = np.pi/4\n",
    "vec_list = get_bipartite_ces(d, theta1)\n",
    "min_gm_list_1 = []\n",
    "for trace_norm in tqdm(trace_norm_list):\n",
    "    # randomly generate hermitian matrices with chosen trace norm\n",
    "    pertubation_list = [scipy.linalg.expm(-1j*random_hermitian(2*d, trace_norm)) for _ in range(N)]\n",
    "    z1 = []\n",
    "    for U in pertubation_list:\n",
    "        pertubated_vec_list = np.array([U@vec[:,np.newaxis].reshape(2*d) for vec in vec_list])\n",
    "        pertubated_matrix_subspace = pertubated_vec_list.reshape(-1, 2, d)\n",
    "        model = numqi.matrix_space.DetectCanonicalPolyadicRankModel((2,d),rank=1)\n",
    "        model.set_target(pertubated_matrix_subspace)\n",
    "        theta_optim = numqi.optimize.minimize(model,**kwargs)\n",
    "        z1.append(theta_optim.fun)\n",
    "    # minimum value in z1\n",
    "    min_gm_list_1.append(np.min(z1))\n",
    "\n",
    "theta2 = np.pi/6\n",
    "vec_list = get_bipartite_ces(d, theta2)\n",
    "min_gm_list_2 = []\n",
    "for trace_norm in tqdm(trace_norm_list):\n",
    "    # randomly generate hermitian matrices with chosen trace norm\n",
    "    pertubation_list = [scipy.linalg.expm(-1j*random_hermitian(2*d, trace_norm)) for _ in range(N)]\n",
    "    z2 = []\n",
    "    for U in pertubation_list:\n",
    "        pertubated_vec_list = np.array([U@vec[:,np.newaxis].reshape(2*d) for vec in vec_list])\n",
    "        pertubated_matrix_subspace = pertubated_vec_list.reshape(-1, 2, d)\n",
    "        model = numqi.matrix_space.DetectCanonicalPolyadicRankModel((2,d),rank=1)\n",
    "        model.set_target(pertubated_matrix_subspace)\n",
    "        theta_optim = numqi.optimize.minimize(model,**kwargs)\n",
    "        z2.append(theta_optim.fun)\n",
    "    # minimum value in z2\n",
    "    min_gm_list_2.append(np.min(z2))\n",
    "\n",
    "\n",
    "\n"
   ]
  },
  {
   "cell_type": "code",
   "execution_count": null,
   "metadata": {},
   "outputs": [],
   "source": [
    "# plot the minimum value of GM vs trace norm \n",
    "fig, ax = plt.subplots()\n",
    "ax.plot(trace_norm_list, min_gm_list_0, 'o-', label=r'$\\theta=\\pi/2$')\n",
    "ax.plot(trace_norm_list, min_gm_list_1, 'o-', label=r'$\\theta=\\pi/4$')\n",
    "ax.plot(trace_norm_list, min_gm_list_2, 'o-', label=r'$\\theta=\\pi/6$')\n",
    "#ax.set_yscale('log')\n",
    "ax.set_xlabel(r'$\\|H\\|_{tr}$')\n",
    "ax.set_ylabel(r'Minimum value of $E_2$')\n",
    "ax.legend()\n",
    "# save figure in pdf \n",
    "fig.savefig('robustness.pdf', bbox_inches='tight')"
   ]
  },
  {
   "cell_type": "code",
   "execution_count": null,
   "metadata": {},
   "outputs": [],
   "source": []
  }
 ],
 "metadata": {
  "kernelspec": {
   "display_name": "Python 3",
   "language": "python",
   "name": "python3"
  },
  "language_info": {
   "codemirror_mode": {
    "name": "ipython",
    "version": 3
   },
   "file_extension": ".py",
   "mimetype": "text/x-python",
   "name": "python",
   "nbconvert_exporter": "python",
   "pygments_lexer": "ipython3",
   "version": "3.11.6"
  }
 },
 "nbformat": 4,
 "nbformat_minor": 2
}
