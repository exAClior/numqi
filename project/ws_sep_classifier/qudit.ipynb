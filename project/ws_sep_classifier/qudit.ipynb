{
 "cells": [
  {
   "cell_type": "code",
   "execution_count": null,
   "metadata": {},
   "outputs": [],
   "source": [
    "import pickle\n",
    "import numpy as np\n",
    "import torch\n",
    "from tqdm import tqdm\n",
    "import numqi\n",
    "import matplotlib.pyplot as plt"
   ]
  },
  {
   "cell_type": "code",
   "execution_count": null,
   "metadata": {},
   "outputs": [],
   "source": [
    "# Random generate a d^-1-dimensional real vector in Euclidean space\n",
    "def random_vector(d):\n",
    "    x = np.random.normal(size=d*d-1)\n",
    "    x = x / np.linalg.norm(x)\n",
    "    return x\n",
    "\n",
    "def save_data(xdata, ydata, filepath='data_boundary.pkl'):\n",
    "    with open(filepath, 'wb') as fid:\n",
    "        pickle.dump(dict(xdata=xdata, ydata=ydata), fid)\n",
    "\n",
    "def load_data(filepath='data_boundary.pkl'):\n",
    "    with open(filepath, 'rb') as fid:\n",
    "        tmp0 = pickle.load(fid)\n",
    "        ret = tmp0['xdata'], tmp0['ydata']\n",
    "    return ret\n"
   ]
  },
  {
   "cell_type": "code",
   "execution_count": null,
   "metadata": {},
   "outputs": [],
   "source": [
    "dim = 3\n",
    "num_sample = 10000\n",
    "batch_size = 64"
   ]
  },
  {
   "cell_type": "code",
   "execution_count": null,
   "metadata": {},
   "outputs": [],
   "source": [
    "# Training data\n",
    "vec_list = [random_vector(dim) for _ in range(num_sample//2)]\n",
    "xdata = []\n",
    "ydata = []\n",
    "for vec in tqdm(vec_list):\n",
    "    rho = numqi.gellmann.gellmann_basis_to_dm(vec)\n",
    "    beta_dm_l, beta_dm_u = numqi.entangle.get_density_matrix_boundary(rho)\n",
    "    xdata.append(vec)\n",
    "    ydata.append(beta_dm_u)\n",
    "    xdata.append(-vec)\n",
    "    ydata.append(-beta_dm_l)\n",
    "xdata = np.array(xdata)\n",
    "ydata = np.array(ydata)\n",
    "y_mean = np.mean(ydata)\n",
    "print(f'min: {np.min(ydata)}, max: {np.max(ydata)}, mean: {y_mean}, variance: {np.var(ydata)}')\n",
    "save_data(xdata, ydata)\n",
    "    "
   ]
  },
  {
   "cell_type": "code",
   "execution_count": null,
   "metadata": {},
   "outputs": [],
   "source": [
    "class Net(torch.nn.Module):\n",
    "    def __init__(self):\n",
    "        super(Net, self).__init__()\n",
    "        tmp0 = [dim**2-1, 128, 128, 256, 256, 128, 128, 1]\n",
    "        self.fc_list = torch.nn.ModuleList([torch.nn.Linear(tmp0[x], tmp0[x+1]) for x in range(len(tmp0)-1)])\n",
    "        self.bn_list = torch.nn.ModuleList([torch.nn.BatchNorm1d(tmp0[x+1]) for x in range(len(tmp0)-1)])\n",
    "\n",
    "    def forward(self, x):\n",
    "        for ind0 in range(len(self.fc_list)):\n",
    "            y = self.fc_list[ind0](x)\n",
    "            y = self.bn_list[ind0](y)\n",
    "            if ind0<(len(self.fc_list)-1):\n",
    "                y = torch.nn.functional.leaky_relu(y)\n",
    "            if x.shape[-1]==y.shape[-1]:\n",
    "                x = y + x\n",
    "            else:\n",
    "                x = y\n",
    "        x = torch.nn.functional.sigmoid(x) + torch.tensor(y_mean, dtype=torch.float32)\n",
    "        return x"
   ]
  },
  {
   "cell_type": "code",
   "execution_count": null,
   "metadata": {},
   "outputs": [],
   "source": [
    "xdata,ydata = load_data()\n",
    "\n",
    "tmp0 = torch.tensor(xdata, dtype=torch.float32)\n",
    "tmp1 = torch.tensor(ydata, dtype=torch.float32)\n",
    "dataloader = torch.utils.data.DataLoader(torch.utils.data.TensorDataset(tmp0, tmp1), batch_size=batch_size, shuffle=True)"
   ]
  },
  {
   "cell_type": "code",
   "execution_count": null,
   "metadata": {},
   "outputs": [],
   "source": [
    "model = Net()\n",
    "optimizer = torch.optim.Adam(model.parameters(), lr=1e-3)\n",
    "loss_history = []\n",
    "for epoch in range(100):\n",
    "    model.train()\n",
    "    for x, y in dataloader:\n",
    "        optimizer.zero_grad()\n",
    "        y_pred = model(x)\n",
    "        loss = torch.nn.functional.mse_loss(y_pred, y)\n",
    "        loss.backward()\n",
    "        optimizer.step()\n",
    "        loss_history.append(loss.item())\n",
    "    if (epoch + 1) % 10 == 0:\n",
    "        print(f'Epoch {epoch + 1}: {loss.item()}')"
   ]
  },
  {
   "cell_type": "code",
   "execution_count": null,
   "metadata": {},
   "outputs": [],
   "source": [
    "fig,ax = plt.subplots()\n",
    "ax.plot(np.arange(len(loss_history)), loss_history, '.')\n",
    "ax.set_xlabel('iteration')\n",
    "ax.set_ylabel('loss')\n",
    "# log scale\n",
    "ax.set_yscale('log')\n",
    "ax.grid()\n",
    "fig.tight_layout()"
   ]
  },
  {
   "cell_type": "code",
   "execution_count": null,
   "metadata": {},
   "outputs": [],
   "source": [
    "i=1\n",
    "j=6\n",
    "GellMann = numqi.gellmann.all_gellmann_matrix(dim, with_I=False)\n",
    "op0 = GellMann[i]\n",
    "op1 = GellMann[j]\n",
    "print(op0)\n",
    "print(op1)"
   ]
  },
  {
   "cell_type": "code",
   "execution_count": null,
   "metadata": {},
   "outputs": [],
   "source": [
    "theta_list = np.linspace(0, 2*np.pi, 500)\n",
    "direction = np.stack([np.cos(theta_list), np.sin(theta_list)], axis=1)\n",
    "\n",
    "_, hf_plane = numqi.entangle.get_density_matrix_plane(op0, op1)\n",
    "beta_dm_cs = np.array([numqi.entangle.get_density_matrix_boundary(hf_plane(x))[1] for x in theta_list])\n",
    "nr_dm_cs = beta_dm_cs.reshape(-1,1) * direction\n",
    "\n",
    "vec_model = np.zeros((len(theta_list), dim**2-1))\n",
    "vec_model[:,i] = np.cos(theta_list)\n",
    "vec_model[:,j] = np.sin(theta_list) \n",
    "model.eval()\n",
    "with torch.no_grad():\n",
    "    beta_dm_model = model(torch.tensor(vec_model, dtype=torch.float32)).numpy()\n",
    "\n",
    "nr_dm_model_cs = beta_dm_model.reshape(-1,1) * direction\n",
    "\n",
    "fig, ax = plt.subplots()\n",
    "ax.plot(nr_dm_cs[:,0], nr_dm_cs[:,1], '-')\n",
    "ax.plot(nr_dm_model_cs[:,0], nr_dm_model_cs[:,1], '--')\n",
    "ax.set_xlabel(r'$O_0$')\n",
    "ax.set_ylabel(r'$O_1$')"
   ]
  },
  {
   "cell_type": "code",
   "execution_count": null,
   "metadata": {},
   "outputs": [],
   "source": []
  }
 ],
 "metadata": {
  "kernelspec": {
   "display_name": "Python 3",
   "language": "python",
   "name": "python3"
  },
  "language_info": {
   "codemirror_mode": {
    "name": "ipython",
    "version": 3
   },
   "file_extension": ".py",
   "mimetype": "text/x-python",
   "name": "python",
   "nbconvert_exporter": "python",
   "pygments_lexer": "ipython3",
   "version": "3.11.6"
  }
 },
 "nbformat": 4,
 "nbformat_minor": 2
}
